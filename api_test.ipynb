{
 "cells": [
  {
   "cell_type": "code",
   "execution_count": 1,
   "id": "90d07c50",
   "metadata": {},
   "outputs": [],
   "source": [
    "import os\n",
    "import requests\n",
    "import json"
   ]
  },
  {
   "cell_type": "markdown",
   "id": "f18768bf",
   "metadata": {},
   "source": [
    "Запустите api:\n",
    "\n",
    "uvicorn local_api:app --reload"
   ]
  },
  {
   "cell_type": "code",
   "execution_count": 2,
   "id": "38656400",
   "metadata": {},
   "outputs": [
    {
     "data": {
      "text/plain": [
       "['7315173150.json',\n",
       " '7316509996.json',\n",
       " '7316152972.json',\n",
       " '7310993818.json',\n",
       " '7313922964.json']"
      ]
     },
     "execution_count": 2,
     "metadata": {},
     "output_type": "execute_result"
    }
   ],
   "source": [
    "# Файлы с примерами для теста содержаться в папке 'data'\n",
    "json_file_list = os.listdir('data')\n",
    "json_file_list"
   ]
  },
  {
   "cell_type": "code",
   "execution_count": 3,
   "id": "e8e7f6da",
   "metadata": {},
   "outputs": [],
   "source": [
    "samples = []\n",
    "for file_name in json_file_list:\n",
    "    path_to_json_file = os.path.join('data', file_name)\n",
    "    with open(path_to_json_file, 'r') as file:\n",
    "        samples.append(json.load(file))"
   ]
  },
  {
   "cell_type": "code",
   "execution_count": 4,
   "id": "be57d0c9",
   "metadata": {},
   "outputs": [
    {
     "name": "stdout",
     "output_type": "stream",
     "text": [
      "200\n"
     ]
    },
    {
     "data": {
      "text/plain": [
       "'Active'"
      ]
     },
     "execution_count": 4,
     "metadata": {},
     "output_type": "execute_result"
    }
   ],
   "source": [
    "# get-запрос 'status':\n",
    "status = requests.get('http://127.0.0.1:8000/status')\n",
    "print(status.status_code)\n",
    "status.json()"
   ]
  },
  {
   "cell_type": "code",
   "execution_count": 5,
   "id": "4840f2bc",
   "metadata": {
    "scrolled": true
   },
   "outputs": [
    {
     "name": "stdout",
     "output_type": "stream",
     "text": [
      "200\n"
     ]
    },
    {
     "data": {
      "text/plain": [
       "{'version': '1.2', 'model': 'SVC', 'accuracy': '0.7869'}"
      ]
     },
     "execution_count": 5,
     "metadata": {},
     "output_type": "execute_result"
    }
   ],
   "source": [
    "# get-запрос 'version':\n",
    "ver = requests.get('http://127.0.0.1:8000/version')\n",
    "print(ver.status_code)\n",
    "ver.json()"
   ]
  },
  {
   "cell_type": "code",
   "execution_count": 6,
   "id": "252607c9",
   "metadata": {
    "scrolled": true
   },
   "outputs": [
    {
     "name": "stdout",
     "output_type": "stream",
     "text": [
      "[200, 200, 200, 200, 200]\n"
     ]
    }
   ],
   "source": [
    "# post-запрос 'predict':\n",
    "response_list = [requests.post('http://127.0.0.1:8000/predict', json=data) for data in samples]\n",
    "print([resp.status_code for resp in response_list])"
   ]
  },
  {
   "cell_type": "code",
   "execution_count": 8,
   "id": "d1169dee",
   "metadata": {},
   "outputs": [
    {
     "name": "stdout",
     "output_type": "stream",
     "text": [
      "id: 7315173150\n",
      "pred: low\n",
      "price: 10500\n",
      "\n",
      "id: 7316509996\n",
      "pred: high\n",
      "price: 24500\n",
      "\n",
      "id: 7316152972\n",
      "pred: medium\n",
      "price: 14495\n",
      "\n",
      "id: 7310993818\n",
      "pred: low\n",
      "price: 8995\n",
      "\n",
      "id: 7313922964\n",
      "pred: high\n",
      "price: 65900\n",
      "\n"
     ]
    }
   ],
   "source": [
    "# Выведем результат запроса 'predict'\n",
    "for resp in response_list:\n",
    "    for k, v in resp.json().items():\n",
    "        print(f'{k}: {v}')\n",
    "    print()"
   ]
  },
  {
   "cell_type": "code",
   "execution_count": null,
   "id": "65bf78c1",
   "metadata": {},
   "outputs": [],
   "source": []
  }
 ],
 "metadata": {
  "kernelspec": {
   "display_name": "Python 3 (ipykernel)",
   "language": "python",
   "name": "python3"
  },
  "language_info": {
   "codemirror_mode": {
    "name": "ipython",
    "version": 3
   },
   "file_extension": ".py",
   "mimetype": "text/x-python",
   "name": "python",
   "nbconvert_exporter": "python",
   "pygments_lexer": "ipython3",
   "version": "3.10.6"
  }
 },
 "nbformat": 4,
 "nbformat_minor": 5
}
