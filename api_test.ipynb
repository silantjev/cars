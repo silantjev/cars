{
 "cells": [
  {
   "cell_type": "code",
   "execution_count": 1,
   "id": "90d07c50",
   "metadata": {
    "ExecuteTime": {
     "end_time": "2023-02-21T12:43:32.330898Z",
     "start_time": "2023-02-21T12:43:32.236411Z"
    }
   },
   "outputs": [],
   "source": [
    "import os\n",
    "import requests\n",
    "import json"
   ]
  },
  {
   "cell_type": "markdown",
   "id": "f18768bf",
   "metadata": {},
   "source": [
    "Запустите api:\n",
    "\n",
    "uvicorn local_api:app --reload\n",
    "\n",
    "либо:\n",
    "\n",
    "python3 local_api_flask.py"
   ]
  },
  {
   "cell_type": "code",
   "execution_count": 2,
   "id": "50e72530",
   "metadata": {
    "ExecuteTime": {
     "end_time": "2023-02-21T12:43:32.336121Z",
     "start_time": "2023-02-21T12:43:32.334214Z"
    }
   },
   "outputs": [],
   "source": [
    "# Укажите порт, если он другой:\n",
    "port = 8000"
   ]
  },
  {
   "cell_type": "code",
   "execution_count": 3,
   "id": "38656400",
   "metadata": {
    "ExecuteTime": {
     "end_time": "2023-02-21T12:43:32.344597Z",
     "start_time": "2023-02-21T12:43:32.337343Z"
    }
   },
   "outputs": [
    {
     "data": {
      "text/plain": [
       "['7315173150.json',\n",
       " '7316509996.json',\n",
       " '7316152972.json',\n",
       " '7310993818.json',\n",
       " '7313922964.json']"
      ]
     },
     "execution_count": 3,
     "metadata": {},
     "output_type": "execute_result"
    }
   ],
   "source": [
    "# Файлы с примерами для теста содержаться в папке 'data'\n",
    "json_file_list = os.listdir('data')\n",
    "json_file_list"
   ]
  },
  {
   "cell_type": "code",
   "execution_count": 4,
   "id": "e8e7f6da",
   "metadata": {
    "ExecuteTime": {
     "end_time": "2023-02-21T12:43:32.350240Z",
     "start_time": "2023-02-21T12:43:32.347500Z"
    }
   },
   "outputs": [],
   "source": [
    "samples = []\n",
    "for file_name in json_file_list:\n",
    "    path_to_json_file = os.path.join('data', file_name)\n",
    "    with open(path_to_json_file, 'r') as file:\n",
    "        samples.append(json.load(file))"
   ]
  },
  {
   "cell_type": "code",
   "execution_count": 5,
   "id": "e26aeb73",
   "metadata": {
    "ExecuteTime": {
     "end_time": "2023-02-21T12:43:32.356632Z",
     "start_time": "2023-02-21T12:43:32.351221Z"
    }
   },
   "outputs": [],
   "source": [
    "#samples[0]"
   ]
  },
  {
   "cell_type": "code",
   "execution_count": 6,
   "id": "be57d0c9",
   "metadata": {
    "ExecuteTime": {
     "end_time": "2023-02-21T12:43:32.381264Z",
     "start_time": "2023-02-21T12:43:32.357836Z"
    }
   },
   "outputs": [
    {
     "name": "stdout",
     "output_type": "stream",
     "text": [
      "200\n"
     ]
    },
    {
     "data": {
      "text/plain": [
       "'Active'"
      ]
     },
     "execution_count": 6,
     "metadata": {},
     "output_type": "execute_result"
    }
   ],
   "source": [
    "# get-запрос 'status':\n",
    "status = requests.get(f'http://127.0.0.1:{port}/status')\n",
    "print(status.status_code)\n",
    "status.json()"
   ]
  },
  {
   "cell_type": "code",
   "execution_count": 7,
   "id": "4840f2bc",
   "metadata": {
    "ExecuteTime": {
     "end_time": "2023-02-21T12:43:32.390859Z",
     "start_time": "2023-02-21T12:43:32.382507Z"
    },
    "scrolled": true
   },
   "outputs": [
    {
     "name": "stdout",
     "output_type": "stream",
     "text": [
      "200\n"
     ]
    },
    {
     "data": {
      "text/plain": [
       "{'version': '1.2', 'model': 'SVC', 'accuracy': '0.7869'}"
      ]
     },
     "execution_count": 7,
     "metadata": {},
     "output_type": "execute_result"
    }
   ],
   "source": [
    "# get-запрос 'version':\n",
    "ver = requests.get(f'http://127.0.0.1:{port}/version')\n",
    "print(ver.status_code)\n",
    "ver.json()"
   ]
  },
  {
   "cell_type": "code",
   "execution_count": 8,
   "id": "252607c9",
   "metadata": {
    "ExecuteTime": {
     "end_time": "2023-02-21T12:43:32.556306Z",
     "start_time": "2023-02-21T12:43:32.392051Z"
    },
    "scrolled": true
   },
   "outputs": [
    {
     "name": "stdout",
     "output_type": "stream",
     "text": [
      "[200, 200, 200, 200, 200]\n"
     ]
    }
   ],
   "source": [
    "# post-запрос 'predict':\n",
    "response_list = [requests.post(f'http://127.0.0.1:{port}/predict', json=data) for data in samples]\n",
    "print([resp.status_code for resp in response_list])"
   ]
  },
  {
   "cell_type": "code",
   "execution_count": 9,
   "id": "d1169dee",
   "metadata": {
    "ExecuteTime": {
     "end_time": "2023-02-21T12:43:32.560549Z",
     "start_time": "2023-02-21T12:43:32.557652Z"
    }
   },
   "outputs": [
    {
     "name": "stdout",
     "output_type": "stream",
     "text": [
      "id: 7315173150\n",
      "pred: low\n",
      "price: 10500\n",
      "\n",
      "id: 7316509996\n",
      "pred: high\n",
      "price: 24500\n",
      "\n",
      "id: 7316152972\n",
      "pred: medium\n",
      "price: 14495\n",
      "\n",
      "id: 7310993818\n",
      "pred: low\n",
      "price: 8995\n",
      "\n",
      "id: 7313922964\n",
      "pred: high\n",
      "price: 65900\n",
      "\n"
     ]
    }
   ],
   "source": [
    "# Выведем результат запроса 'predict'\n",
    "for resp in response_list:\n",
    "    for k, v in resp.json().items():\n",
    "        print(f'{k}: {v}')\n",
    "    print()"
   ]
  },
  {
   "cell_type": "code",
   "execution_count": null,
   "id": "89b6eb4e",
   "metadata": {},
   "outputs": [],
   "source": []
  }
 ],
 "metadata": {
  "kernelspec": {
   "display_name": "Python 3 (ipykernel)",
   "language": "python",
   "name": "python3"
  },
  "language_info": {
   "codemirror_mode": {
    "name": "ipython",
    "version": 3
   },
   "file_extension": ".py",
   "mimetype": "text/x-python",
   "name": "python",
   "nbconvert_exporter": "python",
   "pygments_lexer": "ipython3",
   "version": "3.10.6"
  }
 },
 "nbformat": 4,
 "nbformat_minor": 5
}
