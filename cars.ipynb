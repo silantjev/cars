{
 "cells": [
  {
   "cell_type": "markdown",
   "metadata": {
    "id": "oTIytkb-P_fc"
   },
   "source": [
    "# Постановка задачи"
   ]
  },
  {
   "cell_type": "markdown",
   "metadata": {
    "id": "3OVyFidZQQCM"
   },
   "source": [
    "Имеется выборка из подержанных автомобилей, выставленных на продажу в Соединённых Штатах. На этих данных нужно построить модель классификации, определяющую категорию цены подержанного автомобиля в зависимости от характеристик транспортного средства."
   ]
  },
  {
   "cell_type": "markdown",
   "metadata": {
    "id": "aXJiblYGPnl7"
   },
   "source": [
    "# Описание датасета"
   ]
  },
  {
   "cell_type": "markdown",
   "metadata": {
    "id": "iEkPagJvQMct"
   },
   "source": [
    "- `id`: идентификатор записи;\n",
    "- `url`: URL записи о продаже;\n",
    "- `region`: регион;\n",
    "- `region_url`: URL региона;\n",
    "- `price`: стоимость;\n",
    "- `year`: год выпуска;\n",
    "- `manufacturer`: производитель;\n",
    "- `model`: модель;\n",
    "- `fuel`: тип топлива;\n",
    "- `odometer`: количество пройденных миль;\n",
    "- `title_status`: статус;\n",
    "- `transmission`: коробка передач;\n",
    "- `image_url`: URL изображения;\n",
    "- `description`: указанное описание;\n",
    "- `state`: штат;\n",
    "- `lat`: широта;\n",
    "- `long`: долгота;\n",
    "- `posting_date`: дата размещения объявления о продаже;\n",
    "- `price_category`: категория цены."
   ]
  },
  {
   "cell_type": "markdown",
   "metadata": {
    "id": "QOz03a6IS3yM"
   },
   "source": [
    "###  Задачи:"
   ]
  },
  {
   "cell_type": "markdown",
   "metadata": {
    "id": "fyPW74cuS0xV"
   },
   "source": [
    "Ниже представлены задачи по проекту построения модели. Выполните их и в отдельном файле соберите финальный ноутбук проекта. "
   ]
  },
  {
   "cell_type": "markdown",
   "metadata": {},
   "source": [
    "# 0. Подготовка"
   ]
  },
  {
   "cell_type": "markdown",
   "metadata": {
    "id": "foZlR0n9Qe5d"
   },
   "source": [
    "## 0.0. Импорт библиотек"
   ]
  },
  {
   "cell_type": "code",
   "execution_count": 1,
   "metadata": {},
   "outputs": [],
   "source": [
    "import math\n",
    "import pandas as pd\n",
    "import scipy.stats as sps\n",
    "import matplotlib.pyplot as plt\n",
    "import pickle\n",
    "from sklearn.preprocessing import OneHotEncoder\n",
    "from sklearn.preprocessing import StandardScaler\n",
    "from sklearn.compose import ColumnTransformer\n",
    "from sklearn.model_selection import train_test_split\n",
    "from sklearn.model_selection import cross_val_score\n",
    "from sklearn.model_selection import GridSearchCV\n",
    "from sklearn.metrics import accuracy_score\n",
    "from sklearn.linear_model import LogisticRegression\n",
    "from sklearn.ensemble import RandomForestClassifier\n",
    "from sklearn.neural_network import MLPClassifier\n",
    "from sklearn.svm import SVC\n",
    "import warnings\n",
    "warnings.filterwarnings('ignore')"
   ]
  },
  {
   "cell_type": "markdown",
   "metadata": {
    "id": "bhYiJs3jSRzu"
   },
   "source": [
    "## 0.1. Загрузка данных"
   ]
  },
  {
   "cell_type": "code",
   "execution_count": 2,
   "metadata": {},
   "outputs": [
    {
     "data": {
      "text/plain": [
       "(10000, 19)"
      ]
     },
     "execution_count": 2,
     "metadata": {},
     "output_type": "execute_result"
    }
   ],
   "source": [
    "df_car_data = pd.read_csv('car_data.csv')\n",
    "df_car_data.shape"
   ]
  },
  {
   "cell_type": "markdown",
   "metadata": {
    "id": "yU_ge0TwTQu_"
   },
   "source": [
    "# 1. Data Preparation"
   ]
  },
  {
   "cell_type": "markdown",
   "metadata": {},
   "source": [
    "## 1.0. Проверка/удаление дубликатов и пропусков; приведение типов"
   ]
  },
  {
   "cell_type": "code",
   "execution_count": 3,
   "metadata": {},
   "outputs": [
    {
     "data": {
      "text/html": [
       "<div>\n",
       "<style scoped>\n",
       "    .dataframe tbody tr th:only-of-type {\n",
       "        vertical-align: middle;\n",
       "    }\n",
       "\n",
       "    .dataframe tbody tr th {\n",
       "        vertical-align: top;\n",
       "    }\n",
       "\n",
       "    .dataframe thead th {\n",
       "        text-align: right;\n",
       "    }\n",
       "</style>\n",
       "<table border=\"1\" class=\"dataframe\">\n",
       "  <thead>\n",
       "    <tr style=\"text-align: right;\">\n",
       "      <th></th>\n",
       "      <th>id</th>\n",
       "      <th>url</th>\n",
       "      <th>region</th>\n",
       "      <th>region_url</th>\n",
       "      <th>price</th>\n",
       "      <th>year</th>\n",
       "      <th>manufacturer</th>\n",
       "      <th>model</th>\n",
       "      <th>fuel</th>\n",
       "      <th>odometer</th>\n",
       "      <th>title_status</th>\n",
       "      <th>transmission</th>\n",
       "      <th>image_url</th>\n",
       "      <th>description</th>\n",
       "      <th>state</th>\n",
       "      <th>lat</th>\n",
       "      <th>long</th>\n",
       "      <th>posting_date</th>\n",
       "      <th>price_category</th>\n",
       "    </tr>\n",
       "  </thead>\n",
       "  <tbody>\n",
       "  </tbody>\n",
       "</table>\n",
       "</div>"
      ],
      "text/plain": [
       "Empty DataFrame\n",
       "Columns: [id, url, region, region_url, price, year, manufacturer, model, fuel, odometer, title_status, transmission, image_url, description, state, lat, long, posting_date, price_category]\n",
       "Index: []"
      ]
     },
     "execution_count": 3,
     "metadata": {},
     "output_type": "execute_result"
    }
   ],
   "source": [
    "df_car_data[df_car_data.duplicated()]"
   ]
  },
  {
   "cell_type": "code",
   "execution_count": 4,
   "metadata": {
    "scrolled": true
   },
   "outputs": [
    {
     "name": "stdout",
     "output_type": "stream",
     "text": [
      "<class 'pandas.core.frame.DataFrame'>\n",
      "RangeIndex: 10000 entries, 0 to 9999\n",
      "Data columns (total 19 columns):\n",
      " #   Column          Non-Null Count  Dtype  \n",
      "---  ------          --------------  -----  \n",
      " 0   id              10000 non-null  int64  \n",
      " 1   url             10000 non-null  object \n",
      " 2   region          10000 non-null  object \n",
      " 3   region_url      10000 non-null  object \n",
      " 4   price           10000 non-null  int64  \n",
      " 5   year            9964 non-null   float64\n",
      " 6   manufacturer    10000 non-null  object \n",
      " 7   model           9872 non-null   object \n",
      " 8   fuel            9937 non-null   object \n",
      " 9   odometer        9958 non-null   float64\n",
      " 10  title_status    9834 non-null   object \n",
      " 11  transmission    9955 non-null   object \n",
      " 12  image_url       9998 non-null   object \n",
      " 13  description     9998 non-null   object \n",
      " 14  state           10000 non-null  object \n",
      " 15  lat             9902 non-null   float64\n",
      " 16  long            9902 non-null   float64\n",
      " 17  posting_date    9998 non-null   object \n",
      " 18  price_category  10000 non-null  object \n",
      "dtypes: float64(4), int64(2), object(13)\n",
      "memory usage: 1.4+ MB\n"
     ]
    }
   ],
   "source": [
    "df_car_data.info()"
   ]
  },
  {
   "cell_type": "code",
   "execution_count": 5,
   "metadata": {
    "scrolled": true
   },
   "outputs": [
    {
     "data": {
      "text/plain": [
       "(9964, 14)"
      ]
     },
     "execution_count": 5,
     "metadata": {},
     "output_type": "execute_result"
    }
   ],
   "source": [
    "cols_for_drop = ['id', 'price', 'image_url', 'region_url', 'url'] # удалить\n",
    "cols_for_drop_nan = ['year', 'posting_date'] # удалить строки с пропусками\n",
    "cols_for_other = ['model', 'fuel', 'title_status', 'transmission', 'description'] # заменить пропуски на \"other\"\n",
    "cols_for_mean = ['lat', 'long', 'odometer'] # заменить пропуски на среднее арифметическое\n",
    "\n",
    "df = df_car_data.copy()\n",
    "df = df.drop(cols_for_drop, axis=1)\n",
    "df = df.dropna(subset=cols_for_drop_nan)\n",
    "df[cols_for_other] = df[cols_for_other].fillna('other')\n",
    "\n",
    "for col in cols_for_mean:\n",
    "    m = df[col].mean()\n",
    "    df[[col]] = df[[col]].fillna(m)\n",
    "\n",
    "df.year = df.year.astype('int')\n",
    "df1 = df.copy()\n",
    "df.shape"
   ]
  },
  {
   "cell_type": "markdown",
   "metadata": {},
   "source": [
    "## 1.1 Удаление выбросов"
   ]
  },
  {
   "cell_type": "code",
   "execution_count": 6,
   "metadata": {
    "scrolled": false
   },
   "outputs": [],
   "source": [
    "num_cols = []\n",
    "for col in df.columns:\n",
    "    if pd.api.types.is_numeric_dtype(df[col]):\n",
    "        num_cols.append(col)"
   ]
  },
  {
   "cell_type": "code",
   "execution_count": 7,
   "metadata": {
    "scrolled": true
   },
   "outputs": [],
   "source": [
    "def visual(df, cols, shapiro=False):\n",
    "    for col in cols:\n",
    "        if shapiro:\n",
    "            print(col, ' : ', sps.shapiro(df[col]))\n",
    "        fig, ax = plt.subplots(2,1, figsize=(10,7), sharex=True)\n",
    "        ax[0].hist(df[col])\n",
    "        ax[1].boxplot(df[col], vert=False)\n",
    "        plt.xlabel(col)\n",
    "        ax[0].set_ylabel('Частота')\n",
    "        fig.suptitle(f'Гистограмма и boxplot для \"{col}\"')\n",
    "        plt.show()"
   ]
  },
  {
   "cell_type": "code",
   "execution_count": 8,
   "metadata": {
    "scrolled": false
   },
   "outputs": [
    {
     "data": {
      "image/png": "[encoded data removed]",
      "text/plain": [
       "<Figure size 1000x700 with 2 Axes>"
      ]
     },
     "metadata": {},
     "output_type": "display_data"
    },
    {
     "data": {
      "image/png": "[encoded data removed]",
      "text/plain": [
       "<Figure size 1000x700 with 2 Axes>"
      ]
     },
     "metadata": {},
     "output_type": "display_data"
    },
    {
     "data": {
      "image/png": "[encoded data removed]",
      "text/plain": [
       "<Figure size 1000x700 with 2 Axes>"
      ]
     },
     "metadata": {},
     "output_type": "display_data"
    },
    {
     "data": {
      "image/png": "[encoded data removed]",
      "text/plain": [
       "<Figure size 1000x700 with 2 Axes>"
      ]
     },
     "metadata": {},
     "output_type": "display_data"
    }
   ],
   "source": [
    "visual(df,num_cols)"
   ]
  },
  {
   "cell_type": "markdown",
   "metadata": {},
   "source": [
    "Поскольку выборки не нормальны, заменим выбросы методом квантилей."
   ]
  },
  {
   "cell_type": "code",
   "execution_count": 9,
   "metadata": {},
   "outputs": [],
   "source": [
    "def calculate_outliers(data):\n",
    "    q25 = data.quantile(0.25)\n",
    "    q75 = data.quantile(0.75)\n",
    "    delta = q75 - q25\n",
    "    return q25 - 1.5*delta, q75 + 1.5*delta\n",
    "\n",
    "def anomal_replace(df, num_cols):\n",
    "    for col in num_cols:\n",
    "        a, b = calculate_outliers(df[col])\n",
    "        out_less = df[col] < a\n",
    "        out_grater = df[col] > b\n",
    "        if df[col].dtype == 'int':\n",
    "            df.loc[out_less, col] = int(a)\n",
    "            df.loc[out_grater, col] = int(b)\n",
    "        else:\n",
    "            df.loc[out_less, col] = a\n",
    "            df.loc[out_grater, col] = b"
   ]
  },
  {
   "cell_type": "code",
   "execution_count": 10,
   "metadata": {},
   "outputs": [],
   "source": [
    "df = df1.copy()\n",
    "anomal_replace(df, num_cols)\n",
    "df2 = df.copy()"
   ]
  },
  {
   "cell_type": "markdown",
   "metadata": {
    "id": "hzw5oxCacLEN"
   },
   "source": [
    "# 2. Feature engineering"
   ]
  },
  {
   "cell_type": "markdown",
   "metadata": {},
   "source": [
    "## Новые фичи"
   ]
  },
  {
   "cell_type": "code",
   "execution_count": 11,
   "metadata": {},
   "outputs": [
    {
     "name": "stdout",
     "output_type": "stream",
     "text": [
      "<class 'pandas.core.frame.DataFrame'>\n",
      "Int64Index: 9964 entries, 0 to 9999\n",
      "Data columns (total 14 columns):\n",
      " #   Column          Non-Null Count  Dtype  \n",
      "---  ------          --------------  -----  \n",
      " 0   region          9964 non-null   object \n",
      " 1   year            9964 non-null   int64  \n",
      " 2   manufacturer    9964 non-null   object \n",
      " 3   model           9964 non-null   object \n",
      " 4   fuel            9964 non-null   object \n",
      " 5   odometer        9964 non-null   float64\n",
      " 6   title_status    9964 non-null   object \n",
      " 7   transmission    9964 non-null   object \n",
      " 8   description     9964 non-null   object \n",
      " 9   state           9964 non-null   object \n",
      " 10  lat             9964 non-null   float64\n",
      " 11  long            9964 non-null   float64\n",
      " 12  posting_date    9964 non-null   object \n",
      " 13  price_category  9964 non-null   object \n",
      "dtypes: float64(3), int64(1), object(10)\n",
      "memory usage: 1.1+ MB\n"
     ]
    }
   ],
   "source": [
    "df2.info()"
   ]
  },
  {
   "cell_type": "code",
   "execution_count": 12,
   "metadata": {},
   "outputs": [],
   "source": [
    "df = df2.copy()\n",
    "# Длина описания. Важен скорее логарифм.\n",
    "# df['description_len'] = df['description'].apply(lambda x: len(x))\n",
    "df['description_len_log'] = df['description'].apply(lambda x: math.log(len(x)))\n",
    "# Оъединим марку и модель, сократив модель до 1 слова.\n",
    "df['model_short'] = df.apply(lambda x: x['manufacturer'].lower() + ' ' + x['model'].lower().split()[0], axis=1)\n",
    "# Из даты объявления важны только год и месяц, причём вместе, а не потдельности,\n",
    "# поскольку месяц -- это циклический параметр\n",
    "def month(date):\n",
    "    s = date.split('-')\n",
    "    y = int(s[0])\n",
    "    m = int(s[1])\n",
    "    return m + 12*y    \n",
    "df['posting_month'] = df['posting_date'].apply(month)\n",
    "# Посчитаем возраст и сразу исключим отрицацельный возраст как выброс. \n",
    "df['age'] = df.apply(lambda x: max(0, x['posting_month'] // 12 - x['year']), axis=1)\n",
    "# Посчитаем используемость автомобиля = средний пробег в год (делим на количество полных лет + пол года):\n",
    "df['use'] = df.apply(lambda x: x['odometer'] / (x['age'] + 0.5), axis=1)\n",
    "# Параметр date не указан в описании. Он отличается от posting_date на 0 и изредка на 1 месяц:\n",
    "# print(df.apply(lambda x: month(x['date']) - x['posting_month'], axis=1).value_counts())\n",
    "# Поэтому параметр date лишний.\n",
    "# Удалим не нужные более параметры:\n",
    "df = df.drop(['description', 'manufacturer', 'model', 'posting_date'], axis=1)\n",
    "# Удалим выбросы в новых фичах.\n",
    "num_cols_new = []\n",
    "for col in df.columns:\n",
    "    if pd.api.types.is_numeric_dtype(df[col]) and col not in num_cols:\n",
    "        num_cols_new.append(col)\n",
    "\n",
    "anomal_replace(df, num_cols_new)\n",
    "df3 = df.copy()"
   ]
  },
  {
   "cell_type": "code",
   "execution_count": 13,
   "metadata": {
    "scrolled": false
   },
   "outputs": [
    {
     "data": {
      "image/png": "[encoded data removed]",
      "text/plain": [
       "<Figure size 1000x700 with 2 Axes>"
      ]
     },
     "metadata": {},
     "output_type": "display_data"
    },
    {
     "data": {
      "image/png": "[encoded data removed]",
      "text/plain": [
       "<Figure size 1000x700 with 2 Axes>"
      ]
     },
     "metadata": {},
     "output_type": "display_data"
    },
    {
     "data": {
      "image/png": "[encoded data removed]",
      "text/plain": [
       "<Figure size 1000x700 with 2 Axes>"
      ]
     },
     "metadata": {},
     "output_type": "display_data"
    },
    {
     "data": {
      "image/png": "[encoded data removed]",
      "text/plain": [
       "<Figure size 1000x700 with 2 Axes>"
      ]
     },
     "metadata": {},
     "output_type": "display_data"
    },
    {
     "data": {
      "image/png": "[encoded data removed]",
      "text/plain": [
       "<Figure size 1000x700 with 2 Axes>"
      ]
     },
     "metadata": {},
     "output_type": "display_data"
    },
    {
     "data": {
      "image/png": "[encoded data removed]",
      "text/plain": [
       "<Figure size 1000x700 with 2 Axes>"
      ]
     },
     "metadata": {},
     "output_type": "display_data"
    },
    {
     "data": {
      "image/png": "[encoded data removed]",
      "text/plain": [
       "<Figure size 1000x700 with 2 Axes>"
      ]
     },
     "metadata": {},
     "output_type": "display_data"
    },
    {
     "data": {
      "image/png": "[encoded data removed]",
      "text/plain": [
       "<Figure size 1000x700 with 2 Axes>"
      ]
     },
     "metadata": {},
     "output_type": "display_data"
    }
   ],
   "source": [
    "visual(df3, num_cols + num_cols_new)"
   ]
  },
  {
   "cell_type": "markdown",
   "metadata": {},
   "source": [
    "##### Feature preparing"
   ]
  },
  {
   "cell_type": "code",
   "execution_count": 14,
   "metadata": {},
   "outputs": [
    {
     "name": "stdout",
     "output_type": "stream",
     "text": [
      "(9964, 14)\n"
     ]
    }
   ],
   "source": [
    "df = df3.copy()\n",
    "# Сразу выделим целевую переменную:\n",
    "y = df['price_category']\n",
    "df = df.drop(['price_category'], axis=1)\n",
    "ohe = OneHotEncoder(sparse=False)\n",
    "stand_sc = StandardScaler()\n",
    "num_cols_full = num_cols + num_cols_new\n",
    "cat_cols = list(set(df.columns) - set(num_cols_full))\n",
    "df_cat = pd.DataFrame(ohe.fit_transform(df[cat_cols]), columns=ohe.get_feature_names_out())\n",
    "df_num = pd.DataFrame(stand_sc.fit_transform(df[num_cols_full]), columns=num_cols_full)\n",
    "print(df.shape)\n",
    "df = pd.concat([df_num,df_cat], axis=1)\n",
    "df_prep = df.copy()"
   ]
  },
  {
   "cell_type": "code",
   "execution_count": 15,
   "metadata": {},
   "outputs": [
    {
     "data": {
      "text/plain": [
       "year                       False\n",
       "odometer                   False\n",
       "lat                        False\n",
       "long                       False\n",
       "description_len_log        False\n",
       "                           ...  \n",
       "title_status_missing       False\n",
       "title_status_other         False\n",
       "title_status_parts only    False\n",
       "title_status_rebuilt       False\n",
       "title_status_salvage       False\n",
       "Length: 1505, dtype: bool"
      ]
     },
     "execution_count": 15,
     "metadata": {},
     "output_type": "execute_result"
    }
   ],
   "source": [
    "df_prep.isna().any()"
   ]
  },
  {
   "cell_type": "markdown",
   "metadata": {
    "id": "oPvQ_MlUeU6n"
   },
   "source": [
    "# 3. Modelling"
   ]
  },
  {
   "cell_type": "markdown",
   "metadata": {},
   "source": [
    "## 3.0. Разделение данных"
   ]
  },
  {
   "cell_type": "code",
   "execution_count": 16,
   "metadata": {},
   "outputs": [
    {
     "data": {
      "text/plain": [
       "((7971, 1505), (1993, 1505), (7971,), (1993,))"
      ]
     },
     "execution_count": 16,
     "metadata": {},
     "output_type": "execute_result"
    }
   ],
   "source": [
    "X = df_prep.copy()\n",
    "train_x, test_x, train_y, test_y = train_test_split(X, y, random_state=42, test_size=0.2)\n",
    "train_x.shape, test_x.shape, train_y.shape, test_y.shape"
   ]
  },
  {
   "cell_type": "markdown",
   "metadata": {},
   "source": [
    "## 3.1. Логистическая регрессия"
   ]
  },
  {
   "cell_type": "code",
   "execution_count": 17,
   "metadata": {},
   "outputs": [
    {
     "data": {
      "text/plain": [
       "{'C': 6, 'solver': 'newton-cg'}"
      ]
     },
     "execution_count": 17,
     "metadata": {},
     "output_type": "execute_result"
    }
   ],
   "source": [
    "logis = LogisticRegression()\n",
    "param_grid = {'C': list(range(5,11)), 'solver': ['newton-cg', 'lbfgs']}\n",
    "grid_search_logis = GridSearchCV(logis, param_grid, cv=4, scoring='accuracy', refit=False)\n",
    "grid_search_logis.fit(train_x, train_y)\n",
    "grid_search_logis.best_params_"
   ]
  },
  {
   "cell_type": "code",
   "execution_count": 18,
   "metadata": {},
   "outputs": [
    {
     "name": "stdout",
     "output_type": "stream",
     "text": [
      "0.7691618833588242 {'C': 5, 'solver': 'newton-cg'}\n",
      "0.7666532285690679 {'C': 5, 'solver': 'lbfgs'}\n",
      "0.7711693487447029 {'C': 6, 'solver': 'newton-cg'}\n",
      "0.7650223951500935 {'C': 6, 'solver': 'lbfgs'}\n",
      "0.7705424054471777 {'C': 7, 'solver': 'newton-cg'}\n",
      "0.7647708873627979 {'C': 7, 'solver': 'lbfgs'}\n",
      "0.7710443505079021 {'C': 8, 'solver': 'newton-cg'}\n",
      "0.7638932549062281 {'C': 8, 'solver': 'lbfgs'}\n",
      "0.7697898971702162 {'C': 9, 'solver': 'newton-cg'}\n",
      "0.7635171267105552 {'C': 9, 'solver': 'lbfgs'}\n",
      "0.7697900231130241 {'C': 10, 'solver': 'newton-cg'}\n",
      "0.7626385496829263 {'C': 10, 'solver': 'lbfgs'}\n"
     ]
    }
   ],
   "source": [
    "cv_res = grid_search_logis.cv_results_\n",
    "for m, p in zip(cv_res['mean_test_score'], cv_res['params']):\n",
    "    print(m, p)"
   ]
  },
  {
   "cell_type": "code",
   "execution_count": 19,
   "metadata": {},
   "outputs": [],
   "source": [
    "logis = LogisticRegression(max_iter=300, C=8, solver='newton-cg')\n",
    "cv_logis = cross_val_score(logis, train_x, train_y, cv=4)"
   ]
  },
  {
   "cell_type": "markdown",
   "metadata": {},
   "source": [
    "## 3.2. Случайный лес"
   ]
  },
  {
   "cell_type": "code",
   "execution_count": 20,
   "metadata": {},
   "outputs": [
    {
     "data": {
      "text/plain": [
       "{'bootstrap': False, 'max_depth': 7000, 'n_estimators': 550}"
      ]
     },
     "execution_count": 20,
     "metadata": {},
     "output_type": "execute_result"
    }
   ],
   "source": [
    "forest = RandomForestClassifier()\n",
    "param_grid = {'bootstrap': [False, True],\n",
    "              'n_estimators': [400, 450, 500, 550], 'max_depth': [3000, 5000, 7000]}\n",
    "grid_search = GridSearchCV(forest, param_grid, cv=5, scoring='accuracy', refit=False)\n",
    "grid_search.fit(train_x, train_y)\n",
    "grid_search.best_params_"
   ]
  },
  {
   "cell_type": "code",
   "execution_count": 21,
   "metadata": {
    "scrolled": true
   },
   "outputs": [
    {
     "name": "stdout",
     "output_type": "stream",
     "text": [
      "0.7498415295603026 {'bootstrap': False, 'max_depth': 3000, 'n_estimators': 400}\n",
      "0.7485865884213135 {'bootstrap': False, 'max_depth': 3000, 'n_estimators': 450}\n",
      "0.7517227219628466 {'bootstrap': False, 'max_depth': 3000, 'n_estimators': 500}\n",
      "0.7524758597090185 {'bootstrap': False, 'max_depth': 3000, 'n_estimators': 550}\n",
      "0.7508442710320441 {'bootstrap': False, 'max_depth': 5000, 'n_estimators': 400}\n",
      "0.750217469114194 {'bootstrap': False, 'max_depth': 5000, 'n_estimators': 450}\n",
      "0.751472174258485 {'bootstrap': False, 'max_depth': 5000, 'n_estimators': 500}\n",
      "0.7482103342078249 {'bootstrap': False, 'max_depth': 5000, 'n_estimators': 550}\n",
      "0.7500918412699662 {'bootstrap': False, 'max_depth': 7000, 'n_estimators': 400}\n",
      "0.7503437262776163 {'bootstrap': False, 'max_depth': 7000, 'n_estimators': 450}\n",
      "0.7499663707555371 {'bootstrap': False, 'max_depth': 7000, 'n_estimators': 500}\n",
      "0.7536049370090818 {'bootstrap': False, 'max_depth': 7000, 'n_estimators': 550}\n",
      "0.7428164393906617 {'bootstrap': True, 'max_depth': 3000, 'n_estimators': 400}\n",
      "0.7423145573329453 {'bootstrap': True, 'max_depth': 3000, 'n_estimators': 450}\n",
      "0.7440707512104561 {'bootstrap': True, 'max_depth': 3000, 'n_estimators': 500}\n",
      "0.7426912048709304 {'bootstrap': True, 'max_depth': 3000, 'n_estimators': 550}\n",
      "0.7430669870950233 {'bootstrap': True, 'max_depth': 5000, 'n_estimators': 400}\n",
      "0.746077807451926 {'bootstrap': True, 'max_depth': 5000, 'n_estimators': 450}\n",
      "0.7426905755517359 {'bootstrap': True, 'max_depth': 5000, 'n_estimators': 500}\n",
      "0.744321377579717 {'bootstrap': True, 'max_depth': 5000, 'n_estimators': 550}\n",
      "0.7391783451265128 {'bootstrap': True, 'max_depth': 7000, 'n_estimators': 400}\n",
      "0.7423144000031467 {'bootstrap': True, 'max_depth': 7000, 'n_estimators': 450}\n",
      "0.7436950476512627 {'bootstrap': True, 'max_depth': 7000, 'n_estimators': 500}\n",
      "0.745701002584142 {'bootstrap': True, 'max_depth': 7000, 'n_estimators': 550}\n"
     ]
    }
   ],
   "source": [
    "cv_res = grid_search.cv_results_\n",
    "for m, p in zip(cv_res['mean_test_score'], cv_res['params']):\n",
    "    print(m, p)"
   ]
  },
  {
   "cell_type": "code",
   "execution_count": 24,
   "metadata": {
    "scrolled": true
   },
   "outputs": [],
   "source": [
    "forest = RandomForestClassifier(bootstrap=False, max_depth=7000, n_estimators=550)\n",
    "cv_forest = cross_val_score(forest, train_x, train_y, cv=5)"
   ]
  },
  {
   "cell_type": "code",
   "execution_count": 25,
   "metadata": {
    "scrolled": true
   },
   "outputs": [
    {
     "data": {
      "text/plain": [
       "[('year', 0.09788600469069886),\n",
       " ('age', 0.09536193480891857),\n",
       " ('odometer', 0.09174452709037816),\n",
       " ('description_len_log', 0.07915403606626502),\n",
       " ('use', 0.052712103596158216),\n",
       " ('long', 0.03971725465288113),\n",
       " ('lat', 0.03943575262792856),\n",
       " ('transmission_other', 0.014625915799131993),\n",
       " ('fuel_gas', 0.014144405742888468),\n",
       " ('fuel_diesel', 0.012722020560014645),\n",
       " ('transmission_automatic', 0.011230681980794664),\n",
       " ('model_short_chevrolet silverado', 0.009246199865564981),\n",
       " ('posting_month', 0.007931052525498842),\n",
       " ('model_short_jeep wrangler', 0.006775565782326019),\n",
       " ('fuel_other', 0.005298475616508408),\n",
       " ('model_short_gmc sierra', 0.004521185625862881),\n",
       " ('transmission_manual', 0.004220047851096942),\n",
       " ('model_short_ram 1500', 0.004179931040452712),\n",
       " ('title_status_clean', 0.004005722022074698),\n",
       " ('model_short_ford f-150', 0.003916470679797664),\n",
       " ('model_short_toyota tacoma', 0.003779017922889866),\n",
       " ('state_ca', 0.003769392148009285),\n",
       " ('model_short_kia soul', 0.0029725751594555016),\n",
       " ('state_fl', 0.00297139052653171),\n",
       " ('state_mi', 0.002704667370549577),\n",
       " ('model_short_toyota camry', 0.0027021974145972484),\n",
       " ('state_tx', 0.0026693799948934466),\n",
       " ('model_short_volkswagen jetta', 0.0026537787127845123),\n",
       " ('model_short_chevrolet corvette', 0.00257244872400782),\n",
       " ('model_short_ford focus', 0.0025591245885345114),\n",
       " ('model_short_hyundai sonata', 0.002531800731959765),\n",
       " ('state_oh', 0.0025194634066791847),\n",
       " ('model_short_ford f150', 0.002508454079200937),\n",
       " ('model_short_ford escape', 0.002504659327936014),\n",
       " ('model_short_nissan altima', 0.0024881526496723437),\n",
       " ('model_short_honda civic', 0.0024683854496049457),\n",
       " ('state_nc', 0.0024181879680682684),\n",
       " ('state_or', 0.0022844935435654356),\n",
       " ('model_short_ford fusion', 0.00225122301729066),\n",
       " ('model_short_toyota tundra', 0.002183089137302882),\n",
       " ('title_status_rebuilt', 0.002153678331439598),\n",
       " ('model_short_nissan sentra', 0.0020880723256052405),\n",
       " ('model_short_ram 2500', 0.002075901618110725),\n",
       " ('state_ny', 0.002074504143014647),\n",
       " ('model_short_ford f-250', 0.002002548364603205),\n",
       " ('state_co', 0.0019870979681604396),\n",
       " ('state_il', 0.0019731487278554687),\n",
       " ('model_short_cadillac escalade', 0.0019258593286179315),\n",
       " ('title_status_other', 0.0019241181699658984),\n",
       " ('model_short_ford super', 0.0018944708575448807),\n",
       " ('model_short_other scion', 0.0018517847302017536),\n",
       " ('state_wi', 0.0018503598191930983),\n",
       " ('state_az', 0.0018372391798379753),\n",
       " ('model_short_chevrolet cruze', 0.0018236651315566618),\n",
       " ('model_short_hyundai elantra', 0.001797980040107064),\n",
       " ('state_pa', 0.0017486619816764937),\n",
       " ('fuel_hybrid', 0.001738716753859641),\n",
       " ('model_short_dodge grand', 0.0017185902625091332),\n",
       " ('model_short_ford f250', 0.0017116175186922095),\n",
       " ('state_mn', 0.0016913139902407699),\n",
       " ('state_id', 0.001678611316291131),\n",
       " ('state_wa', 0.001670764245467741),\n",
       " ('model_short_ford mustang', 0.001643188586743287),\n",
       " ('state_tn', 0.0016246641586838422),\n",
       " ('state_va', 0.0015959938795035112),\n",
       " ('state_nj', 0.0015893736311672509),\n",
       " ('model_short_chevrolet malibu', 0.001565843969775276),\n",
       " ('state_ia', 0.0015581926360177863),\n",
       " ('model_short_honda accord', 0.0015177512214021003),\n",
       " ('model_short_toyota corolla', 0.0015013141202075684),\n",
       " ('model_short_mitsubishi outlander', 0.0014730597500313427),\n",
       " ('model_short_toyota prius', 0.0014547202926908204),\n",
       " ('model_short_chevrolet tahoe', 0.0014354489153663318),\n",
       " ('model_short_ford f-350', 0.0014287007762406071),\n",
       " ('model_short_kia forte', 0.0013971166077431636),\n",
       " ('model_short_bmw x5', 0.001390334191831526),\n",
       " ('model_short_chevrolet impala', 0.0013881788120137031),\n",
       " ('model_short_chevrolet equinox', 0.00138439505207304),\n",
       " ('model_short_nissan versa', 0.0013843632761842257),\n",
       " ('model_short_chevrolet spark', 0.0013647765289857875),\n",
       " ('model_short_gmc yukon', 0.0013424678928358046),\n",
       " ('model_short_jeep grand', 0.0013387779510636833),\n",
       " ('state_ok', 0.0013301044383097211),\n",
       " ('state_ky', 0.0012989116442209936),\n",
       " ('state_ks', 0.0012759254784698146),\n",
       " ('state_nm', 0.0012696551672280296),\n",
       " ('model_short_chevrolet trax', 0.0012619249424966682),\n",
       " ('state_ma', 0.0012170902793074165),\n",
       " ('model_short_volkswagen tiguan', 0.0012053723709893598),\n",
       " ('model_short_toyota 4runner', 0.0012009197722325099),\n",
       " ('region_stockton', 0.0011966569530099628),\n",
       " ('state_ga', 0.0011919812515743115),\n",
       " ('state_ct', 0.001187846365063113),\n",
       " ('model_short_ford explorer', 0.00114633280127649),\n",
       " ('state_sc', 0.0011413900601520168),\n",
       " ('state_mt', 0.0011217806502333805),\n",
       " ('model_short_mercedes-benz benz', 0.0011181065592214979),\n",
       " ('title_status_salvage', 0.0011007776037702608),\n",
       " ('state_in', 0.0010960288817988037),\n",
       " ('model_short_fiat 500', 0.0010742152512408414),\n",
       " ('model_short_mazda mazda3', 0.0010652906614454075),\n",
       " ('region_cincinnati', 0.0010588930817825347),\n",
       " ('model_short_ford transit', 0.0010561841420425701),\n",
       " ('region_south florida', 0.001045679766459036),\n",
       " ('region_yuba-sutter', 0.0010381478981383227),\n",
       " ('region_dallas / fort worth', 0.0010240984922734106),\n",
       " ('model_short_ford econoline', 0.0010234483487459103),\n",
       " ('region_st louis, MO', 0.001011340137400269),\n",
       " ('model_short_chevrolet camaro', 0.0010103633591725867),\n",
       " ('model_short_kia sorento', 0.0010090106344673015),\n",
       " ('model_short_other hummer', 0.0010078977565889727),\n",
       " ('region_kansas city, MO', 0.0010076544110180822),\n",
       " ('model_short_dodge challenger', 0.0010038175997052984),\n",
       " ('model_short_mini cooper', 0.0009932479844251558),\n",
       " ('state_ar', 0.0009905729837136226),\n",
       " ('model_short_acura mdx', 0.0009854029108165164),\n",
       " ('region_orlando', 0.0009824260303400222),\n",
       " ('model_short_chevrolet express', 0.0009816025317130363),\n",
       " ('region_charlotte', 0.0009722808983258596),\n",
       " ('region_redding', 0.0009715768972369572),\n",
       " ('model_short_dodge dart', 0.0009709804295758657),\n",
       " ('region_minneapolis / st paul', 0.0009664666525324306),\n",
       " ('region_oklahoma city', 0.0009655772924319615),\n",
       " ('region_phoenix', 0.0009645955257805239),\n",
       " ('model_short_mitsubishi mirage', 0.0009592497043343819),\n",
       " ('model_short_toyota fj', 0.0009536495941702711),\n",
       " ('state_md', 0.0009482227046337539),\n",
       " ('model_short_hyundai accent', 0.0009451141944825788),\n",
       " ('region_north jersey', 0.0009436805798446063),\n",
       " ('region_omaha / council bluffs', 0.0009316924259517341),\n",
       " ('region_cleveland', 0.000930945586831908),\n",
       " ('model_short_toyota rav4', 0.0009296335063602704),\n",
       " ('model_short_ford f350', 0.0009175908342498952),\n",
       " ('state_al', 0.0009136629210775184),\n",
       " ('model_short_honda fit', 0.0009134974783062954),\n",
       " ('model_short_chevrolet sonic', 0.0009040974406039182),\n",
       " ('region_grand rapids', 0.0008964828562059569),\n",
       " ('region_ft myers / SW florida', 0.0008961504611525879),\n",
       " ('region_atlanta', 0.0008938387471978708),\n",
       " ('region_ventura county', 0.0008919447038955118),\n",
       " ('region_eugene', 0.0008906557412861751),\n",
       " ('region_colorado springs', 0.0008848640816380489),\n",
       " ('region_chicago', 0.0008816683579584459),\n",
       " ('region_inland empire', 0.0008815741965073884),\n",
       " ('region_reno / tahoe', 0.0008792060443256852),\n",
       " ('region_bakersfield', 0.0008775385945397068),\n",
       " ('region_bend', 0.0008743765271729369),\n",
       " ('model_short_ford edge', 0.0008720688791679885),\n",
       " ('region_houston', 0.0008660500300614945),\n",
       " ('region_orange county', 0.0008594532700411272),\n",
       " ('region_sacramento', 0.0008582574646604467),\n",
       " ('region_san diego', 0.0008552022959570748),\n",
       " ('region_albuquerque', 0.0008506570645572658),\n",
       " ('region_hartford', 0.0008492803851201649),\n",
       " ('region_milwaukee', 0.000847837833577982),\n",
       " ('region_akron / canton', 0.0008472264171363253),\n",
       " ('model_short_jeep cherokee', 0.0008422723285432355),\n",
       " ('region_detroit metro', 0.000836902549518227),\n",
       " ('model_short_kia sportage', 0.0008299188828699664),\n",
       " ('model_short_jeep patriot', 0.000829370927839063),\n",
       " ('region_boise', 0.0008189415403780123),\n",
       " ('model_short_toyota sienna', 0.0008157042239472854),\n",
       " ('region_modesto', 0.0008139143451001805),\n",
       " ('model_short_chrysler 200', 0.000811555799436055),\n",
       " ('model_short_honda odyssey', 0.0008099027776791124),\n",
       " ('model_short_nissan rogue', 0.0008083338081442358),\n",
       " ('region_sarasota-bradenton', 0.00080723723149517),\n",
       " ('region_tucson', 0.0008061870237963659),\n",
       " ('model_short_kia optima', 0.0007993447920900498),\n",
       " ('title_status_lien', 0.0007982923815983028),\n",
       " ('model_short_subaru impreza', 0.000794660952950609),\n",
       " ('region_madison', 0.0007944439938628468),\n",
       " ('region_austin', 0.0007931635133847778),\n",
       " ('region_columbus', 0.000792933224013011),\n",
       " ('model_short_ford expedition', 0.0007928023322360585),\n",
       " ('region_new haven', 0.0007892730203685972),\n",
       " ('model_short_volkswagen golf', 0.0007875101346298719),\n",
       " ('model_short_lexus ls', 0.0007867269529673355),\n",
       " ('region_san antonio', 0.0007850989150399023),\n",
       " ('model_short_lexus rx', 0.000783963245160062),\n",
       " ('region_central NJ', 0.0007806631255819097),\n",
       " ('model_short_ford fiesta', 0.0007780687012535896),\n",
       " ('region_louisville', 0.0007764356557882163),\n",
       " ('region_maine', 0.0007750538032651868),\n",
       " ('region_jacksonville', 0.000772080727169671),\n",
       " ('state_me', 0.0007719901060242768),\n",
       " ('region_denver', 0.000769644475769377),\n",
       " ('state_nv', 0.0007639660076221119),\n",
       " ('region_seattle-tacoma', 0.0007618720698486644),\n",
       " ('region_tampa bay area', 0.0007614807298773844),\n",
       " (\"region_spokane / coeur d'alene\", 0.0007591519525844786),\n",
       " ('model_short_dodge charger', 0.0007586330702183629),\n",
       " ('region_washington, DC', 0.0007547728924970373),\n",
       " ('region_fayetteville', 0.0007520456729936968),\n",
       " ('state_dc', 0.0007510001838767018),\n",
       " ('region_pittsburgh', 0.0007496817307799593),\n",
       " ('model_short_toyota highlander', 0.0007426281090071504),\n",
       " ('region_los angeles', 0.0007382706963913381),\n",
       " ('region_tulsa', 0.0007366679151928769),\n",
       " ('state_mo', 0.0007362972359293268),\n",
       " ('region_las vegas', 0.0007353651668631702),\n",
       " ('region_philadelphia', 0.0007333978783255192),\n",
       " ('model_short_chrysler town', 0.0007331753855521839),\n",
       " ('region_indianapolis', 0.0007289116676548533),\n",
       " ('region_fresno / madera', 0.0007281471787310756),\n",
       " ('model_short_honda pilot', 0.0007268042437546368),\n",
       " ('region_long island', 0.0007248316779804822),\n",
       " ('model_short_chevrolet suburban', 0.000724109867655978),\n",
       " ('region_nashville', 0.0007240461848475841),\n",
       " ('region_raleigh / durham / CH', 0.0007184840647383252),\n",
       " ('region_des moines', 0.0007163347395536197),\n",
       " ('region_albany', 0.0007150263240975157),\n",
       " ('region_knoxville', 0.0007115455717942327),\n",
       " ('model_short_jeep renegade', 0.0007099529154719314),\n",
       " ('state_la', 0.000697665556579273),\n",
       " ('region_baltimore', 0.0006874437651510905),\n",
       " ('region_SF bay area', 0.0006854860333089109),\n",
       " ('region_lakeland', 0.0006854796703676379),\n",
       " ('model_short_ram 3500', 0.0006834443138140182),\n",
       " ('region_little rock', 0.0006772209212511231),\n",
       " ('region_south jersey', 0.0006750231715868253),\n",
       " ('region_fort collins / north CO', 0.0006699330486140995),\n",
       " ('state_ak', 0.0006672946839310855),\n",
       " ('region_richmond', 0.0006497757934663885),\n",
       " ('model_short_subaru forester', 0.0006490976419386501),\n",
       " ('model_short_jeep liberty', 0.0006455529981480014),\n",
       " ('model_short_kia rio', 0.0006454210541233859),\n",
       " ('region_santa barbara', 0.0006359485555877795),\n",
       " ('model_short_jeep compass', 0.0006265744274849288),\n",
       " ('model_short_honda cr-v', 0.0006264341714658276),\n",
       " ('model_short_chevrolet colorado', 0.0006261069908110774),\n",
       " ('model_short_nissan titan', 0.0006251747727406993),\n",
       " ('model_short_chevrolet avalanche', 0.000624258754355103),\n",
       " ('region_new hampshire', 0.0006208266959302058),\n",
       " ('model_short_ram other', 0.0006117130058183435),\n",
       " ('region_new york city', 0.000606269476136437),\n",
       " ('model_short_hyundai santa', 0.0006032109726526214),\n",
       " ('region_portland', 0.000602114261187945),\n",
       " ('region_vermont', 0.0005987610533134179),\n",
       " ('state_nh', 0.0005970623332709448),\n",
       " ('model_short_buick encore', 0.0005951168048045803),\n",
       " ('model_short_ford ranger', 0.0005937543469808982),\n",
       " ('state_ne', 0.0005935463197017688),\n",
       " ('model_short_nissan leaf', 0.000592845419806089),\n",
       " ('model_short_audi q5', 0.0005924926999055323),\n",
       " ('state_vt', 0.0005828920954515002),\n",
       " ('model_short_subaru outback', 0.0005807420253223484),\n",
       " ('state_sd', 0.000578073137938478),\n",
       " ('region_springfield', 0.0005771482668482405),\n",
       " ('region_kennewick-pasco-richland', 0.0005763101828177631),\n",
       " ('model_short_dodge journey', 0.000576267160849836),\n",
       " ('model_short_lexus gx', 0.0005722148132089472),\n",
       " ('region_greensboro', 0.0005649533306231681),\n",
       " ('model_short_other international', 0.0005632890456182992),\n",
       " ('model_short_volkswagen beetle', 0.000555654640640115),\n",
       " ('region_boston', 0.0005550711437763739),\n",
       " ('region_medford-ashland', 0.0005547256523987797),\n",
       " ('model_short_toyota sequoia', 0.0005522974856775338),\n",
       " ('model_short_hyundai tucson', 0.0005520234821142257),\n",
       " ('model_short_bmw 3', 0.0005490099342323277),\n",
       " ('region_palm springs', 0.0005457012170397077),\n",
       " ('model_short_subaru xv', 0.0005448470773028803),\n",
       " ('region_buffalo', 0.0005411900591115766),\n",
       " ('region_greenville / upstate', 0.0005359929782031381),\n",
       " ('model_short_gmc acadia', 0.0005353228516119514),\n",
       " ('region_flint', 0.0005351912757846757),\n",
       " ('region_worcester / central MA', 0.0005342861147955868),\n",
       " ('model_short_buick regal', 0.0005336868028016123),\n",
       " ('region_fredericksburg', 0.0005332172873663554),\n",
       " ('region_chico', 0.0005235286552736024),\n",
       " ('model_short_tesla model', 0.0005189228993175426),\n",
       " ('region_rochester', 0.0005157514971042054),\n",
       " ('fuel_electric', 0.0005127581672875491),\n",
       " ('region_birmingham', 0.0005098274588255991),\n",
       " ('region_san luis obispo', 0.0005071224433770728),\n",
       " ('region_norfolk / hampton roads', 0.0005062598286608593),\n",
       " ('model_short_lexus lx', 0.0005045123971167395),\n",
       " ('region_boulder', 0.0005032278493681724),\n",
       " ('model_short_chrysler 300', 0.0005015155875494937),\n",
       " ('region_anchorage / mat-su', 0.0005003757606178442),\n",
       " ('model_short_toyota land', 0.0004997047489893473),\n",
       " ('region_western massachusetts', 0.0004946463667798178),\n",
       " ('model_short_dodge durango', 0.0004943754230322228),\n",
       " ('region_yakima', 0.0004907700872670279),\n",
       " ('model_short_chevrolet traverse', 0.0004889084818442258),\n",
       " ('region_memphis', 0.0004882176818692257),\n",
       " ('model_short_subaru legacy', 0.00048736869258062286),\n",
       " ('region_salem', 0.0004836877894523219),\n",
       " ('model_short_mercedes-benz c-class', 0.00048339244695501886),\n",
       " ('region_el paso', 0.0004831209430991022),\n",
       " ('model_short_gmc terrain', 0.00048241798369703725),\n",
       " ('model_short_buick enclave', 0.00047730556256975464),\n",
       " ('region_monterey bay', 0.000471448659337841),\n",
       " ('region_ocala', 0.00046294170801300963),\n",
       " ('model_short_dodge avenger', 0.0004579458947725657),\n",
       " ('model_short_cadillac ats', 0.0004561140415322431),\n",
       " ('region_appleton-oshkosh-FDL', 0.00045416055116334245),\n",
       " ('model_short_nissan frontier', 0.00045381465178933526),\n",
       " ('model_short_ford taurus', 0.0004535809896280302),\n",
       " ('model_short_other plymouth', 0.000451047105585656),\n",
       " ('model_short_bmw m3', 0.0004492827162139268),\n",
       " ('model_short_cadillac cts', 0.00044924693986045),\n",
       " ('region_lexington', 0.000448390264125886),\n",
       " ('state_hi', 0.0004436690435499331),\n",
       " ('region_corvallis/albany', 0.00043925306562903494),\n",
       " ('model_short_porsche cayenne', 0.00043823456577548117),\n",
       " ('state_ut', 0.00043489043383560883),\n",
       " ('region_lansing', 0.0004347921415067795),\n",
       " ('region_eastern NC', 0.0004314261147378562),\n",
       " ('region_western slope', 0.0004302761550602742),\n",
       " ('region_daytona beach', 0.0004297135324926838),\n",
       " ('region_hawaii', 0.0004295083673366112),\n",
       " ('model_short_mercedes-benz s-class', 0.0004199967519568656),\n",
       " ('region_new orleans', 0.00041940510876727554),\n",
       " ('region_myrtle beach', 0.0004189918490313028),\n",
       " ('model_short_mazda mx-5', 0.0004179344475278423),\n",
       " ('model_short_ram promaster', 0.00041517006797413107),\n",
       " ('region_jackson', 0.0004123173215338632),\n",
       " ('state_ri', 0.0004116827887342253),\n",
       " ('region_toledo', 0.0004081526540616905),\n",
       " ('model_short_ford e350', 0.0004081174799898781),\n",
       " ('region_wichita', 0.0004072612963910193),\n",
       " ('region_roanoke', 0.0004029757592026855),\n",
       " ('region_tri-cities', 0.0004022666471712261),\n",
       " ('region_billings', 0.00040191659930799325),\n",
       " ('region_prescott', 0.00039906344676697537),\n",
       " ('model_short_nissan murano', 0.0003988650423354114),\n",
       " ('model_short_ford other', 0.00039774618519421753),\n",
       " ('model_short_infiniti qx80', 0.0003961987263406789),\n",
       " ('region_huntsville / decatur', 0.00039576440401737576),\n",
       " ('region_olympic peninsula', 0.0003949790908712972),\n",
       " ('region_santa fe / taos', 0.000394694733878838),\n",
       " ('region_rhode island', 0.0003940709787004963),\n",
       " ('region_treasure coast', 0.00039387797014302526),\n",
       " ('model_short_ford f450', 0.00039232549202486406),\n",
       " ('region_gainesville', 0.00039211210398771163),\n",
       " ('model_short_volkswagen passat', 0.00039091390329582226),\n",
       " ('state_ms', 0.00038866567238827094),\n",
       " ('region_pueblo', 0.0003881424280428871),\n",
       " ('model_short_audi s5', 0.00038482510848447595),\n",
       " ('state_wv', 0.00038448539706671626),\n",
       " ('model_short_infiniti g37', 0.00038439873870824224),\n",
       " ('model_short_kia niro', 0.00038301976863451304),\n",
       " ('model_short_audi a4', 0.0003806559690295169),\n",
       " ('model_short_chevrolet other', 0.0003787208656874815),\n",
       " ('region_rockford', 0.0003765611485263559),\n",
       " ('region_hudson valley', 0.00037593996893768496),\n",
       " ('region_columbia / jeff city', 0.0003691372790341122),\n",
       " ('region_chillicothe', 0.00036635250940394824),\n",
       " ('model_short_nissan pathfinder', 0.00036530205435174415),\n",
       " ('region_chattanooga', 0.00036273203128886803),\n",
       " ('region_asheville', 0.000362236752950487),\n",
       " ('region_wenatchee', 0.00035675149215824253),\n",
       " ('model_short_bmw 1', 0.00035659800495139635),\n",
       " ('model_short_acura rdx', 0.0003556192790589369),\n",
       " ('region_st cloud', 0.0003548599410182833),\n",
       " ('model_short_volkswagen eurovan', 0.0003541817512448811),\n",
       " ('region_rapid city / west SD', 0.0003541773409424055),\n",
       " ('region_bellingham', 0.00035280470852875473),\n",
       " ('region_saginaw-midland-baycity', 0.0003513668471452213),\n",
       " ('model_short_lexus is', 0.0003482212177230653),\n",
       " ('region_syracuse', 0.0003480082461565732),\n",
       " ('model_short_nissan maxima', 0.0003469204269749848),\n",
       " ('model_short_lexus es', 0.00034359607902209913),\n",
       " ('region_wilmington', 0.0003415511546546617),\n",
       " ('region_kalamazoo', 0.0003411871669936641),\n",
       " ('region_winston-salem', 0.000341130708689007),\n",
       " ('region_kalispell', 0.0003394769373606974),\n",
       " ('model_short_ford thunderbird', 0.0003386133399599612),\n",
       " ('region_harrisburg', 0.00033713471181917945),\n",
       " ('region_south bend / michiana', 0.00033637794907041656),\n",
       " ('region_duluth / superior', 0.0003359559186735964),\n",
       " ('region_southern illinois', 0.00033510806184610075),\n",
       " ('model_short_acura tsx', 0.000334993344207028),\n",
       " ('model_short_rover sport', 0.00033377769276168396),\n",
       " ('model_short_mercedes-benz sl-class', 0.00033338608695784855),\n",
       " ('region_ann arbor', 0.00033159654645643406),\n",
       " ('region_fargo / moorhead', 0.000328944019641792),\n",
       " ('region_columbia', 0.0003283083445065331),\n",
       " ('model_short_ram pickup', 0.0003261352465841249),\n",
       " ('region_erie', 0.0003257624213816325),\n",
       " ('region_lima / findlay', 0.00032507625531388027),\n",
       " ('region_central michigan', 0.0003226393590335244),\n",
       " ('model_short_chevrolet cc4500', 0.00032257582529656386),\n",
       " ('region_eau claire', 0.0003224504146657369),\n",
       " ('region_lubbock', 0.00032045182156053247),\n",
       " ('region_charleston', 0.00031915954752144356),\n",
       " ('region_twin falls', 0.00031374667162273464),\n",
       " ('region_space coast', 0.00031336857551336923),\n",
       " ('model_short_lincoln mkz', 0.0003108024754974841),\n",
       " ('region_east oregon', 0.00031059473229437106),\n",
       " ('model_short_volvo xc60', 0.000308631741625679),\n",
       " ('region_corpus christi', 0.00030834875911094474),\n",
       " ('region_dayton / springfield', 0.0003083047382908812),\n",
       " ('region_fort wayne', 0.00030743287978132197),\n",
       " ('model_short_hyundai veloster', 0.00030519152378588875),\n",
       " ('model_short_bmw 328i', 0.00030386168540007664),\n",
       " ('region_tyler / east TX', 0.00030375173870481775),\n",
       " ('region_gold country', 0.0003037420183678057),\n",
       " ('region_lehigh valley', 0.00030259234132427583),\n",
       " ('model_short_volkswagen gti', 0.0003022709591902084),\n",
       " ('model_short_ford excursion', 0.00030174890118800314),\n",
       " ('model_short_infiniti qx60', 0.0003002416769327347),\n",
       " ('model_short_chrysler pt', 0.00029965935525087676),\n",
       " ('model_short_bmw 5', 0.00029819682570964907),\n",
       " ('region_watertown', 0.0002934855723187321),\n",
       " ('region_northern michigan', 0.00028929785590231337),\n",
       " ('region_las cruces', 0.0002863083393769268),\n",
       " ('model_short_audi a6', 0.0002852640573572322),\n",
       " ('region_missoula', 0.00028518220356706125),\n",
       " ('region_skagit / island / SJI', 0.00028397556373664163),\n",
       " ('region_flagstaff / sedona', 0.00028234899588343125),\n",
       " ('region_kenosha-racine', 0.0002807514916525584),\n",
       " ('region_green bay', 0.0002800779566683634),\n",
       " ('region_santa maria', 0.00027885416061974145),\n",
       " ('model_short_chevrolet hhr', 0.0002782944114677751),\n",
       " ('region_tallahassee', 0.0002782727988761119),\n",
       " ('model_short_other flexible', 0.000278089050373731),\n",
       " ('region_bozeman', 0.0002779961967003694),\n",
       " ('region_scranton / wilkes-barre', 0.00027683717650935964),\n",
       " ('model_short_audi a3', 0.0002726759198514009),\n",
       " ('model_short_dodge caliber', 0.0002721478321318998),\n",
       " ('model_short_buick verano', 0.00027147440016147146),\n",
       " ('model_short_ford c-max', 0.0002711584054558372),\n",
       " ('model_short_hyundai genesis', 0.0002700188932105312),\n",
       " ('model_short_mazda cx-5', 0.0002686439112205632),\n",
       " ('model_short_mazda 3', 0.0002683905096011428),\n",
       " ('model_short_lincoln navigator', 0.00026790971656866187),\n",
       " ('model_short_chevrolet trailblazer', 0.0002678456460682824),\n",
       " ('model_short_cadillac srx', 0.0002673197964740768),\n",
       " ('model_short_infiniti qx50', 0.00026675768490118883),\n",
       " ('model_short_mitsubishi eclipse', 0.00026658718605391846),\n",
       " ('region_pensacola', 0.00026590350833073016),\n",
       " ('state_de', 0.00026505794772004526),\n",
       " ('model_short_audi a5', 0.0002647221338938231),\n",
       " ('model_short_ford e-350', 0.0002621585324201551),\n",
       " ('region_mohave county', 0.000260998154231058),\n",
       " ('model_short_other isuzu', 0.00025867701468195483),\n",
       " ('model_short_other freightliner', 0.0002522899937038712),\n",
       " ('region_cedar rapids', 0.00025061156343137353),\n",
       " ('region_lincoln', 0.00024883662034371406),\n",
       " ('region_zanesville / cambridge', 0.0002473453057856851),\n",
       " ('region_fairbanks', 0.0002463849508828248),\n",
       " ('region_waco', 0.00024324246494667693),\n",
       " ('region_mcallen / edinburg', 0.00024050559119938878),\n",
       " ('region_east idaho', 0.00024011115131028905),\n",
       " ('region_macon / warner robins', 0.00023893062143674312),\n",
       " ('region_delaware', 0.00023869617206363338),\n",
       " ('model_short_volkswagen cc', 0.00023843843990827723),\n",
       " ('region_lewiston / clarkston', 0.00023769948662849476),\n",
       " ('region_peoria', 0.00023688560402093547),\n",
       " ('region_wausau', 0.00023568969146897377),\n",
       " ('region_muskegon', 0.00023327378954867334),\n",
       " ('region_binghamton', 0.00023198192840688363),\n",
       " ('region_southwest michigan', 0.00023066374747312564),\n",
       " ('model_short_subaru crosstrek', 0.00023042913403452565),\n",
       " ('region_finger lakes', 0.00022828723046145263),\n",
       " ('model_short_ford f550', 0.0002269269322092471),\n",
       " ('model_short_honda ridgeline', 0.00022642645110402046),\n",
       " ('model_short_lexus gs', 0.00022559816704199786),\n",
       " ('model_short_volvo s60', 0.00022347683867400057),\n",
       " ('model_short_chrysler pacifica', 0.0002228209402296193),\n",
       " ('region_cape cod / islands', 0.00022142573054382967),\n",
       " ('region_quad cities, IA/IL', 0.00022138842476990462),\n",
       " ('region_jersey shore', 0.00021766199965574172),\n",
       " ('model_short_infiniti g', 0.00021749403943397707),\n",
       " ('state_wy', 0.00021727910704630877),\n",
       " ('model_short_volkswagen touareg', 0.0002166426141354996),\n",
       " ('model_short_mercedes-benz e-class', 0.00021615457587961003),\n",
       " ('region_port huron', 0.00021554243986439165),\n",
       " ('model_short_other maserati', 0.0002151319576507998),\n",
       " ('model_short_chevrolet cobalt', 0.0002116807224923395),\n",
       " ('model_short_rover other', 0.00021123111107245523),\n",
       " ('region_salt lake city', 0.00021051275734238135),\n",
       " ('region_la crosse', 0.00020924031606582973),\n",
       " ('region_dubuque', 0.00020830731206774577),\n",
       " ('region_wichita falls', 0.00020711463129937654),\n",
       " ('model_short_lincoln mkx', 0.00020667127259393314),\n",
       " ('region_oregon coast', 0.00020638742269464498),\n",
       " ('region_mobile', 0.00020560952109647415),\n",
       " ('model_short_other genesis', 0.0002052474422213933),\n",
       " ('region_upper peninsula', 0.00020474877565515484),\n",
       " ('model_short_ford f650', 0.00020387237142509857),\n",
       " ('model_short_pontiac trans', 0.00020346906861346648),\n",
       " ('region_visalia-tulare', 0.00020178012358621064),\n",
       " ('model_short_ford flex', 0.00020130605391117216),\n",
       " ('model_short_bmw x3', 0.00020104920112194678),\n",
       " ('model_short_toyota yaris', 0.0002009658065276271),\n",
       " ('region_amarillo', 0.000200152665035752),\n",
       " ('region_topeka', 0.00019998853377317286),\n",
       " ('model_short_cadillac xts', 0.00019964558864181376),\n",
       " ('region_wyoming', 0.00019901733271986697),\n",
       " ('region_sioux falls / SE SD', 0.00019823411872627538),\n",
       " ('model_short_rover evoque', 0.00019749647169978348),\n",
       " ('region_odessa / midland', 0.00019695560520688047),\n",
       " ('model_short_subaru wrx', 0.00019687212846282939),\n",
       " ('region_monroe', 0.0001962530088395088),\n",
       " ('title_status_missing', 0.0001932261254786012),\n",
       " ('model_short_chevrolet ss', 0.00019320472768691955),\n",
       " ('region_mankato', 0.00019318267075918322),\n",
       " ('region_elmira-corning', 0.00019265639245795012),\n",
       " ('model_short_mitsubishi lancer', 0.0001924259683422992),\n",
       " ('state_nd', 0.00019176356299772286),\n",
       " ('region_roseburg', 0.0001917556312893375),\n",
       " ('model_short_ram dakota', 0.00019094328147441285),\n",
       " ('model_short_gmc savana', 0.00019018817703945776),\n",
       " ('region_college station', 0.0001888920022755587),\n",
       " ('model_short_mini countryman', 0.00018862531369783365),\n",
       " ('region_battle creek', 0.00018837775216547873),\n",
       " ('model_short_toyota venza', 0.00018787695829480984),\n",
       " ('region_sioux city', 0.0001868170034542718),\n",
       " ('model_short_other oldsmobile', 0.00018596064726204075),\n",
       " ('model_short_chevrolet 2500', 0.0001846421992144776),\n",
       " ('model_short_chevrolet volt', 0.00018425097491395938),\n",
       " ('region_north mississippi', 0.00018222137710080367),\n",
       " ('model_short_mercedes-benz ml', 0.00018108012131646338),\n",
       " ('model_short_bmw 3-series', 0.00018102211116880523),\n",
       " ('region_clarksville', 0.0001795759660875246),\n",
       " ('model_short_audi s4', 0.00017887096842956202),\n",
       " ('region_parkersburg-marietta', 0.0001785842586590046),\n",
       " ('model_short_nissan quest', 0.00017785667569347854),\n",
       " ('region_bowling green', 0.00017740277668143117),\n",
       " ('model_short_chevrolet ssr', 0.0001767211244288798),\n",
       " ('model_short_lexus isf', 0.00017644081364199887),\n",
       " ('region_statesboro', 0.0001763220296628829),\n",
       " ('region_boone', 0.00017626088074559445),\n",
       " ('region_york', 0.0001745026652803443),\n",
       " ('model_short_toyota c-hr', 0.00017339029477404357),\n",
       " ('model_short_pontiac g6', 0.00017325023600310352),\n",
       " ('region_utica-rome-oneida', 0.00017267716866851192),\n",
       " ('region_waterloo / cedar falls', 0.00017141555871334603),\n",
       " ('region_st george', 0.00016991499681189918),\n",
       " ('region_brainerd', 0.0001692009684747505),\n",
       " ('model_short_bmw 7', 0.00016784151973874248),\n",
       " ('model_short_acura ilx', 0.000167799544512258),\n",
       " ('model_short_mercedes-benz cl-class', 0.00016742716780661175),\n",
       " ('model_short_volvo xc90', 0.00016696486396829035),\n",
       " ('region_susanville', 0.00016689184335993062),\n",
       " ('region_okaloosa / walton', 0.00016664419074997937),\n",
       " ('model_short_other 2007', 0.0001656323450288077),\n",
       " ('region_great falls', 0.00016534608474406598),\n",
       " ('region_fort smith', 0.000164521955733409),\n",
       " ('model_short_ford e-150', 0.00016409495823262199),\n",
       " ('model_short_volkswagen eos', 0.00016385841389097042),\n",
       " ('region_janesville', 0.00016385142243832058),\n",
       " ('region_merced', 0.00016346575443649267),\n",
       " ('model_short_hyundai ioniq', 0.00016315114010215627),\n",
       " ('model_short_mercedes-benz gl-class', 0.00016283051461663632),\n",
       " ('model_short_other programs', 0.0001627584924165396),\n",
       " ('model_short_toyota avalon', 0.00016138537517467515),\n",
       " ('model_short_nissan juke', 0.0001611666816464324),\n",
       " ('model_short_bmw i3', 0.0001606666138233786),\n",
       " ('model_short_ford f-550', 0.00016065951798510339),\n",
       " ('model_short_chevrolet 2500hd', 0.00015993972939392493),\n",
       " ('model_short_bmw z4', 0.00015768927579621134),\n",
       " ('model_short_buick lucerne', 0.00015744510925894372),\n",
       " ('model_short_other suzuki', 0.00015618316491641877),\n",
       " ('model_short_bmw x1', 0.0001548836673632447),\n",
       " ('region_northwest GA', 0.0001545637274142277),\n",
       " ('region_grand island', 0.00015177567829902257),\n",
       " ('model_short_chevrolet chevelle', 0.00015163814253757156),\n",
       " ('model_short_acura tl', 0.00015158167419040793),\n",
       " ('model_short_bmw 528i', 0.00015037977499688957),\n",
       " ('model_short_jeep cj5', 0.00015028413687355005),\n",
       " ('model_short_mazda mazda6', 0.00015020882567498984),\n",
       " ('model_short_other gmc,', 0.00015002680601068394),\n",
       " ('region_shreveport', 0.00014925293876063477),\n",
       " ('region_winchester', 0.00014606525141670228),\n",
       " ('model_short_dodge dakota', 0.00014594173735654433),\n",
       " ('model_short_chevrolet k30', 0.00014562804490017017),\n",
       " ('region_reading', 0.0001454366101938202),\n",
       " ('model_short_volvo xc40', 0.00014525288827415842),\n",
       " ('region_hickory / lenoir', 0.0001450866948122786),\n",
       " ('model_short_mercedes-benz clk', 0.00014508550947357353),\n",
       " ('model_short_jaguar xj', 0.00014291418193850794),\n",
       " ('model_short_audi s7', 0.00014207808683395202),\n",
       " ('region_lancaster', 0.00014204274387537327),\n",
       " ('region_moses lake', 0.00014188983432255052),\n",
       " ('region_pullman / moscow', 0.00014152130591352954),\n",
       " ('region_harrisonburg', 0.00014121626368195653),\n",
       " ('region_annapolis', 0.00013996430495452023),\n",
       " ('region_altoona-johnstown', 0.00013980006273133067),\n",
       " ('region_southeast IA', 0.0001381436330063093),\n",
       " ('model_short_chevrolet c10', 0.00013810804967920965),\n",
       " ('region_athens', 0.000136626947565591),\n",
       " ('model_short_infiniti qx56', 0.00013579810281191828),\n",
       " ('region_poconos', 0.00013526826344400044),\n",
       " ('model_short_porsche boxster', 0.00013491971713884028),\n",
       " ('model_short_infiniti q50', 0.00013477363899833846),\n",
       " ('region_lawrence', 0.00013475628257380608),\n",
       " ('model_short_jeep other', 0.00013436504031600596),\n",
       " ('model_short_bmw 750i', 0.00013391604204941683),\n",
       " ('region_killeen / temple / ft hood', 0.00013379368193946762),\n",
       " ('model_short_bmw x6', 0.00013343015822832264),\n",
       " ('model_short_buick lacrosse', 0.00013294777350510452),\n",
       " ('model_short_nissan xterra', 0.0001327093989682326),\n",
       " ('region_south coast', 0.00013216836254127163),\n",
       " ('model_short_ford f-450', 0.0001315682899979758),\n",
       " ('model_short_other willys', 0.00013063187360898117),\n",
       " ('model_short_cadillac eldorado', 0.00013025341085822671),\n",
       " ('model_short_porsche panamera', 0.00012974764539598198),\n",
       " ('model_short_ford e-series', 0.00012965857944817043),\n",
       " ('model_short_ford e450', 0.00012741226613893062),\n",
       " ('model_short_mercedes-benz g-class', 0.00012692196609557634),\n",
       " ('region_montgomery', 0.00012652706002576005),\n",
       " ('model_short_ford crown', 0.0001256137688610319),\n",
       " ('region_bloomington-normal', 0.0001248410448400224),\n",
       " ('region_northwest CT', 0.0001243317174068665),\n",
       " ('region_baton rouge', 0.00012376164642108299),\n",
       " ('model_short_ram truck', 0.00012335885893476967),\n",
       " ('model_short_dodge 2500', 0.00012319634374531024),\n",
       " ('model_short_bmw 328d', 0.00012221711282494347),\n",
       " ('region_charlottesville', 0.00012113328452330325),\n",
       " ('model_short_hyundai other', 0.00012108021368694108),\n",
       " ('region_williamsport', 0.00012097570639766833),\n",
       " ('model_short_volvo v60', 0.0001206647044459263),\n",
       " ('model_short_other all', 0.00012048697288798229),\n",
       " ('region_bismarck', 0.00012015736640480508),\n",
       " ('model_short_nissan 350z', 0.00011984133951161704),\n",
       " ('model_short_other click', 0.00011970849064308717),\n",
       " ('model_short_lexus lx450', 0.00011910743494423117),\n",
       " ('model_short_rover hse', 0.00011897750066310804),\n",
       " ('region_klamath falls', 0.00011830810609383774),\n",
       " ('model_short_chevrolet 3100', 0.00011823981433106303),\n",
       " ('model_short_nissan 370z', 0.00011809711144046645),\n",
       " ('region_augusta', 0.00011592266214650339),\n",
       " ('model_short_chevrolet sedan', 0.00011567612297080725),\n",
       " ('model_short_harley-davidson davidson', 0.00011554834436696693),\n",
       " ('model_short_gmc canyon', 0.00011544833033061458),\n",
       " ('model_short_mazda miata', 0.00011477787459554887),\n",
       " ('model_short_chevrolet blazer', 0.00011470372476025954),\n",
       " ('model_short_dodge nitro', 0.00011452913835385287),\n",
       " ('model_short_lexus gx470', 0.00011428343944229633),\n",
       " ('model_short_gmc 1500', 0.00011376621509160365),\n",
       " ('model_short_nissan armada', 0.00011353950290252294),\n",
       " ('model_short_mazda mazda5', 0.00011308747896832565),\n",
       " ('model_short_fiat 124', 0.00011295475364454968),\n",
       " ('model_short_toyota scion', 0.00011199863302940982),\n",
       " ('model_short_rover discovery', 0.0001106848809475311),\n",
       " ('model_short_other wolf', 0.0001104270341971625),\n",
       " ('model_short_bmw 640', 0.00011029313756892557),\n",
       " ('model_short_other chevorlet', 0.00011029050294588393),\n",
       " ('model_short_mercedes-benz gle', 0.00010966340120694304),\n",
       " ('model_short_pontiac firebird', 0.00010905964571262044),\n",
       " ('region_morgantown', 0.00010898134303695594),\n",
       " ('region_siskiyou county', 0.00010887118287871561),\n",
       " ('model_short_other hino', 0.00010842937587206576),\n",
       " ('region_southeast alaska', 0.00010828957582355451),\n",
       " ('model_short_mercedes-benz m-class', 0.00010823604533927109),\n",
       " ('model_short_mercedes-benz gls', 0.00010782851726339783),\n",
       " ('model_short_chrysler sebring', 0.00010747966625091662),\n",
       " ('region_sierra vista', 0.0001074330249029346),\n",
       " ('region_brownsville', 0.00010743242592610531),\n",
       " ('model_short_ford f-250sd', 0.00010727513147896146),\n",
       " ('model_short_other special', 0.00010718392960972385),\n",
       " ('model_short_volvo c70', 0.00010702522134107023),\n",
       " ('model_short_bmw 4', 0.00010695523313736874),\n",
       " ('region_plattsburgh-adirondacks', 0.00010673070359561198),\n",
       " ('model_short_other buy', 0.00010600155644763525),\n",
       " ('model_short_lexus nx', 0.00010573360637958343),\n",
       " ('model_short_lexus rc', 0.00010431359657350582),\n",
       " ('model_short_lexus rx350', 0.00010404047896958153),\n",
       " ('model_short_other xx', 0.0001039790716697626),\n",
       " ('model_short_other by', 0.00010379713297878775),\n",
       " ('model_short_porsche 911', 0.00010347292643382316),\n",
       " ('model_short_mercury grand', 0.00010327388491408575),\n",
       " ('region_show low', 0.00010326180272243555),\n",
       " ('region_north central FL', 0.00010313029697272409),\n",
       " ('region_hattiesburg', 0.00010284094498613444),\n",
       " ('model_short_mercedes-benz sprinter', 0.00010281595274758826),\n",
       " ('model_short_ford model', 0.00010256018791299675),\n",
       " ('region_ashtabula', 0.00010247943440664564),\n",
       " ('region_laredo', 0.00010157482464145091),\n",
       " ('model_short_saturn sky', 0.0001013557697258157),\n",
       " ('region_sheboygan', 0.00010129299964568591),\n",
       " ('model_short_ford bronco', 0.00010046370193986206),\n",
       " ('region_holland', 0.00010044855294572225),\n",
       " ('model_short_cadillac xt5', 0.00010038486762825034),\n",
       " ('region_frederick', 0.00010030833323887115),\n",
       " ('region_bemidji', 0.00010024064633589372),\n",
       " ('model_short_bmw 650i', 9.978073772190145e-05),\n",
       " ('model_short_cadillac sts', 9.967968341747022e-05),\n",
       " ('model_short_cadillac ct5', 9.961872822209441e-05),\n",
       " ('model_short_chevrolet 5500', 9.932578439729278e-05),\n",
       " ('model_short_other peterbilt', 9.890341541848843e-05),\n",
       " ('model_short_chrysler s/w', 9.874914174647134e-05),\n",
       " ('model_short_bmw 650xi', 9.872972119616931e-05),\n",
       " ('model_short_other thomas', 9.842747834688035e-05),\n",
       " ('model_short_bmw 535i', 9.802980814208559e-05),\n",
       " ('model_short_audi q7', 9.686491096697332e-05),\n",
       " ('model_short_lincoln mkc', 9.666962985726356e-05),\n",
       " ('model_short_mercedes-benz glc', 9.637235935815042e-05),\n",
       " ('model_short_ford e250', 9.455045923355187e-05),\n",
       " ('model_short_toyota supra', 9.416559525201537e-05),\n",
       " ('region_new river valley', 9.406007715743814e-05),\n",
       " ('model_short_other mg', 9.388527883029017e-05),\n",
       " ('model_short_audi rs', 9.370998210268877e-05),\n",
       " ('model_short_mercedes-benz cls-class', 9.362454393918635e-05),\n",
       " ('model_short_honda crv', 9.278950971164146e-05),\n",
       " ('model_short_other bentley', 9.210394369147065e-05),\n",
       " ('model_short_mercedes-benz glk', 9.190091218733112e-05),\n",
       " ('model_short_pontiac lemans', 9.170908153713007e-05),\n",
       " ('model_short_other am', 9.156428285212737e-05),\n",
       " ('model_short_mercury cougar', 9.112169309608568e-05),\n",
       " ('model_short_chevrolet 210', 9.066497710794172e-05),\n",
       " ('model_short_toyota landcruiser', 9.050035583763624e-05),\n",
       " ('region_southern maryland', 9.024226954561114e-05),\n",
       " ('model_short_acura tlx', 9.021514893150652e-05),\n",
       " ('model_short_ram 5500', 9.00680796161892e-05),\n",
       " ('model_short_ford replica', 8.954685060375933e-05),\n",
       " ('region_savannah / hinesville', 8.905485350911591e-05),\n",
       " ('region_champaign urbana', 8.88694674311027e-05),\n",
       " ('model_short_cadillac cts-v', 8.790197017150956e-05),\n",
       " ('region_st joseph', 8.77074345949155e-05),\n",
       " ('region_youngstown', 8.756530245635481e-05),\n",
       " ('model_short_buick envision', 8.717249301059986e-05),\n",
       " ('region_outer banks', 8.685251909073254e-05),\n",
       " ('model_short_other f250', 8.669397300047589e-05),\n",
       " ('region_high rockies', 8.582427223964455e-05),\n",
       " ('model_short_other janesville', 8.553090442803663e-05),\n",
       " ('model_short_chevrolet dump', 8.513549998065024e-05),\n",
       " ('region_hilton head', 8.500195337958625e-05),\n",
       " ('model_short_bmw 325is', 8.36963470576307e-05),\n",
       " ('model_short_pontiac grand', 8.367008107509006e-05),\n",
       " ('model_short_rover range', 8.340169048469928e-05),\n",
       " ('region_stillwater', 8.320576799292829e-05),\n",
       " ('model_short_mercedes-benz gl450', 8.29356201107658e-05),\n",
       " ('model_short_mercedes-benz sl55', 8.258772605527733e-05),\n",
       " ('region_elko', 8.199740065221279e-05),\n",
       " ('region_farmington', 8.199544855778888e-05),\n",
       " ('model_short_gmc envoy', 8.165338109663908e-05),\n",
       " ('model_short_other ford*', 8.164897489932948e-05),\n",
       " ('model_short_kia forte5', 8.160669345234582e-05),\n",
       " ('model_short_nissan 300zx', 8.157752566081401e-05),\n",
       " ('model_short_gmc c5500', 8.138552931122772e-05),\n",
       " ('region_victoria', 8.084593665705768e-05),\n",
       " ('model_short_ford e-450', 8.064088471187517e-05),\n",
       " ('region_lawton', 8.045086000864612e-05),\n",
       " ('model_short_chevrolet nova', 7.995604914343371e-05),\n",
       " ('model_short_bmw 428', 7.971743922682259e-05),\n",
       " ('model_short_pontiac gto', 7.953857811643437e-05),\n",
       " ('model_short_gmc 4500', 7.944376791692743e-05),\n",
       " ('region_eastern montana', 7.935378575639692e-05),\n",
       " ('model_short_mercedes-benz s320', 7.887563836261172e-05),\n",
       " ('model_short_ford bus', 7.849427305754265e-05),\n",
       " ('model_short_mitsubishi fuso', 7.826983508021412e-05),\n",
       " ('model_short_chevrolet bonanza', 7.811413284623737e-05),\n",
       " ('model_short_mercury other', 7.809142769622503e-05),\n",
       " ('model_short_honda insight', 7.8070686459674e-05),\n",
       " ('model_short_other mazda5', 7.793081621018425e-05),\n",
       " ('model_short_chevrolet el', 7.752468928295615e-05),\n",
       " ('region_muncie / anderson', 7.69935893177375e-05),\n",
       " ('region_dothan', 7.654001307770318e-05),\n",
       " ('model_short_mini paceman', 7.653773304884494e-05),\n",
       " ('model_short_buick super', 7.650590233823315e-05),\n",
       " ('model_short_lincoln town', 7.648614589875334e-05),\n",
       " ('model_short_mercedes-benz -benz', 7.638898873163441e-05),\n",
       " ('model_short_dodge 3500', 7.560623755718407e-05),\n",
       " ('model_short_gmc 2500', 7.550547014060611e-05),\n",
       " ('model_short_ford coe', 7.371990519553432e-05),\n",
       " ('model_short_other 2002', 7.345681555904523e-05),\n",
       " ('model_short_jaguar xk8', 7.34456675248334e-05),\n",
       " ('model_short_chevrolet crew', 7.295795789364301e-05),\n",
       " ('model_short_mercedes-benz e', 7.292609469672617e-05),\n",
       " ('model_short_other pierce', 7.290548025667627e-05),\n",
       " ('region_central louisiana', 7.286982597458461e-05),\n",
       " ('region_heartland florida', 7.249338464133286e-05),\n",
       " ('model_short_ford coupe', 7.233587073615666e-05),\n",
       " ('model_short_chevrolet 1500', 7.23030547633165e-05),\n",
       " ('model_short_volkswagen atlas', 7.229638404389586e-05),\n",
       " ('model_short_toyota pickup', 7.195283137513869e-05),\n",
       " ('model_short_lincoln blackwood', 7.194706790536018e-05),\n",
       " ('model_short_mini hardtop', 7.188798491846533e-05),\n",
       " ('model_short_lexus sc', 7.11125060161123e-05),\n",
       " ('model_short_mercedes-benz cla', 7.105377170107991e-05),\n",
       " ('region_eastern CT', 7.103715337106939e-05),\n",
       " ('region_lynchburg', 7.096558633547274e-05),\n",
       " ('model_short_mercury mariner', 7.034777952064696e-05),\n",
       " ('model_short_chevrolet 3500', 7.031435740073487e-05),\n",
       " ('model_short_subaru tribeca', 6.99027812829958e-05),\n",
       " ('model_short_mercedes-benz gla-class', 6.934322334083479e-05),\n",
       " ('model_short_lexus gx460', 6.927188088746639e-05),\n",
       " ('region_joplin', 6.919614576905077e-05),\n",
       " ('model_short_chevrolet captiva', 6.913694883276401e-05),\n",
       " ('model_short_other mack', 6.895605360220229e-05),\n",
       " ('model_short_infiniti fx35', 6.876778223648598e-05),\n",
       " ('model_short_chevrolet duramax', 6.8670294345579e-05),\n",
       " ('model_short_bmw m5', 6.866986642485894e-05),\n",
       " ('model_short_other shelby', 6.852391833257972e-05),\n",
       " ('model_short_chevrolet k10', 6.802476511782179e-05),\n",
       " ('region_salina', 6.782741765488276e-05),\n",
       " ('model_short_infiniti g35', 6.73951191962086e-05),\n",
       " ('model_short_mercedes-benz cla-class', 6.666185284266452e-05),\n",
       " ('model_short_other town', 6.656842614637821e-05),\n",
       " ('model_short_jaguar other', 6.635003515449123e-05),\n",
       " ('region_texoma', 6.624958576753011e-05),\n",
       " ('region_valdosta', 6.624103998249224e-05),\n",
       " ('model_short_other gx', 6.602949850380425e-05),\n",
       " ('model_short_ford f100', 6.572857934084992e-05),\n",
       " ('model_short_mercedes-benz gle-class', 6.571882807089402e-05),\n",
       " ('model_short_other cadvwrambuick', 6.526026847806959e-05),\n",
       " ('model_short_chevrolet 4500', 6.500231475936766e-05),\n",
       " ('region_imperial county', 6.49714253537892e-05),\n",
       " ('model_short_mercedes-benz clk350', 6.426675930374165e-05),\n",
       " ('model_short_audi q8', 6.40975869264709e-05),\n",
       " ('region_mansfield', 6.38039412461366e-05),\n",
       " ('model_short_ram titan', 6.344483938555271e-05),\n",
       " ('model_short_alfa-romeo romeo', 6.327658234241455e-05),\n",
       " ('region_san angelo', 6.297913168095898e-05),\n",
       " ('model_short_chevrolet c/k', 6.281380241707966e-05),\n",
       " ('model_short_cadillac deville', 6.276516081430037e-05),\n",
       " ('model_short_toyota solara', 6.26541705279938e-05),\n",
       " ('region_helena', 6.251845417754642e-05),\n",
       " ('model_short_ford e-250', 6.212412823495627e-05),\n",
       " ('model_short_cadillac limousine', 6.202325560748831e-05),\n",
       " ('region_san marcos', 6.191124268091357e-05),\n",
       " ('model_short_mazda cx-9', 6.183980083272423e-05),\n",
       " ('model_short_dodge magnum', 6.16612343629257e-05),\n",
       " ('model_short_bmw z3', 6.153062505513035e-05),\n",
       " ('region_southwest MN', 6.136695328006603e-05),\n",
       " ('model_short_bmw 550i', 6.114925392443976e-05),\n",
       " ('region_danville', 6.0933440193369095e-05),\n",
       " ('model_short_audi s8', 6.067229755642631e-05),\n",
       " ('region_abilene', 6.054025109830062e-05),\n",
       " ('model_short_other saab', 6.024490859050716e-05),\n",
       " ('model_short_bmw 645ci', 6.0209754825199136e-05),\n",
       " ('region_evansville', 6.016126925781801e-05),\n",
       " ('model_short_ford f-450sd', 6.002105323612983e-05),\n",
       " ('model_short_bmw 6', 5.9925322806164374e-05),\n",
       " ('region_kenai peninsula', 5.988400802289099e-05),\n",
       " ('model_short_ford f', 5.9224273459819446e-05),\n",
       " ('model_short_pontiac deluxe', 5.917514504957665e-05),\n",
       " ('model_short_chevrolet g', 5.91283507375377e-05),\n",
       " ('model_short_ford e150', 5.8985707723147175e-05),\n",
       " ('model_short_chevrolet bolt', 5.867564887952531e-05),\n",
       " ('region_catskills', 5.8617781741348166e-05),\n",
       " ('region_northwest KS', 5.8551222779077963e-05),\n",
       " ('model_short_toyota mighty', 5.839953256786792e-05),\n",
       " ('model_short_chrysler newport', 5.8254092644405814e-05),\n",
       " ('region_ames', 5.678795440207173e-05),\n",
       " ('model_short_dodge sprinter', 5.657112941409686e-05),\n",
       " ('model_short_bmw 320i', 5.653287822158549e-05),\n",
       " ('region_jonesboro', 5.6307570827986274e-05),\n",
       " ('region_ithaca', 5.6176148314539136e-05),\n",
       " ('model_short_chevrolet camero', 5.610121324139205e-05),\n",
       " ('model_short_subaru brz', 5.584985944215507e-05),\n",
       " ('model_short_mercedes-benz 380sl', 5.51821641348557e-05),\n",
       " ('model_short_ford f750', 5.5059239605646185e-05),\n",
       " ('model_short_other studebaker', 5.4800163843530124e-05),\n",
       " ('model_short_pontiac solstice', 5.4787022430834035e-05),\n",
       " ('region_huntington-ashland', 5.452160716639745e-05),\n",
       " ('model_short_other rolls', 5.448031668729105e-05),\n",
       " ('region_eastern panhandle', 5.447025329427839e-05),\n",
       " ('model_short_gmc other', 5.405977958041584e-05),\n",
       " ('model_short_mercedes-benz convertible', 5.365011262098044e-05),\n",
       " ('model_short_infiniti m35s', 5.337772270079333e-05),\n",
       " ('model_short_bmw 330xi', 5.3321793560908906e-05),\n",
       " ('model_short_chevrolet belair', 5.3316020427159634e-05),\n",
       " ('model_short_mercedes-benz 350', 5.321823970881815e-05),\n",
       " ('model_short_lincoln other', 5.2938519087405486e-05),\n",
       " ('model_short_other merdeces', 5.267677497772212e-05),\n",
       " ('model_short_other cemetery', 5.255778476911607e-05),\n",
       " ('model_short_mercedes-benz e350', 5.223774588245982e-05),\n",
       " ('model_short_gmc sierra1500', 5.2065032516520784e-05),\n",
       " ('region_grand forks', 5.1853607975916844e-05),\n",
       " ('model_short_mercedes-benz ml350', 5.183651590726832e-05),\n",
       " ('model_short_lincoln ls', 5.170850295705811e-05),\n",
       " ('model_short_other mgb', 5.146001350875723e-05),\n",
       " ('region_southeast missouri', 5.1342208916665804e-05),\n",
       " ('model_short_subaru baja', 5.119180470389518e-05),\n",
       " ('model_short_mercedes-benz clk-class', 5.1166796342569955e-05),\n",
       " ('region_panama city', 5.0766997529383885e-05),\n",
       " ('region_southwest KS', 5.055113061883511e-05),\n",
       " ('model_short_bmw 750xi', 5.016679812403963e-05),\n",
       " ('model_short_dodge other', 4.9888308765442746e-05),\n",
       " ('model_short_cadillac xt4', 4.9862395540706984e-05),\n",
       " ('model_short_mercedes-benz c250', 4.966862605829454e-05),\n",
       " ('model_short_mini roadster', 4.9550091743496865e-05),\n",
       " ('model_short_other 1999', 4.846561150787752e-05),\n",
       " ('model_short_chrysler new', 4.845378304961269e-05),\n",
       " ('model_short_honda hr-v', 4.841742405945807e-05),\n",
       " ('model_short_cadillac ct6', 4.824895132872222e-05),\n",
       " ('model_short_volkswagen other', 4.80597138942336e-05),\n",
       " ('model_short_other 2015', 4.757122559701545e-05),\n",
       " ('region_northern WI', 4.7360581801810315e-05),\n",
       " ('model_short_audi a8', 4.725379643392692e-05),\n",
       " ('model_short_mercedes-benz cls', 4.703043098631121e-05),\n",
       " ('region_north dakota', 4.688852080055537e-05),\n",
       " ('model_short_other d7fh173552', 4.667816277340129e-05),\n",
       " ('model_short_cadillac fleetwood', 4.6551110523892375e-05),\n",
       " ('model_short_other isizu', 4.6450179095491696e-05),\n",
       " ('model_short_mazda 5', 4.6173339326555556e-05),\n",
       " ('model_short_volkswagen super', 4.614076339188723e-05),\n",
       " ('model_short_other asc', 4.594944463353343e-05),\n",
       " ('model_short_other champion', 4.593158852615472e-05),\n",
       " ('model_short_other 2021', 4.581255212461135e-05),\n",
       " ('model_short_acura md-x', 4.5583469584368535e-05),\n",
       " ('model_short_mercedes-benz slk-class', 4.541773284268278e-05),\n",
       " ('model_short_ford phaeton', 4.517910451059553e-05),\n",
       " ('model_short_rover defender', 4.490582010242701e-05),\n",
       " ('model_short_honda s2000', 4.4852343222522245e-05),\n",
       " ('region_iowa city', 4.466996799640561e-05),\n",
       " ('model_short_mercury sable', 4.446375869915924e-05),\n",
       " ('model_short_rover lr2', 4.428526974971086e-05),\n",
       " ('region_manhattan', 4.404414449479783e-05),\n",
       " ('model_short_other amc', 4.392432991898224e-05),\n",
       " ('model_short_cadillac srx-v6', 4.390330836841698e-05),\n",
       " ('region_south dakota', 4.3882461482408606e-05),\n",
       " ('model_short_acura rlx', 4.349298337935463e-05),\n",
       " ('region_humboldt county', 4.3265171116382714e-05),\n",
       " ('model_short_other emergency', 4.315036274398835e-05),\n",
       " ('model_short_gmc sle', 4.304469941178619e-05),\n",
       " ('model_short_ram long', 4.24921639550017e-05),\n",
       " ('region_the thumb', 4.2419640478952204e-05),\n",
       " ('model_short_chevrolet elcamino', 4.2337738583664997e-05),\n",
       " ('model_short_gmc suburban', 4.232443595460241e-05),\n",
       " ('model_short_chevrolet coupe', 4.228806361794756e-05),\n",
       " ('model_short_bmw 335i', 4.214824006488689e-05),\n",
       " ('model_short_honda vtx1300c', 4.214639825163414e-05),\n",
       " ('model_short_pontiac fiero', 4.211716866860331e-05),\n",
       " ('model_short_jaguar xf', 4.1869191446774315e-05),\n",
       " ('region_florence', 4.177286238079437e-05),\n",
       " ('model_short_mini other', 4.1652368015750564e-05),\n",
       " ('region_glens falls', 4.163257907204546e-05),\n",
       " ('model_short_volvo xc70', 4.1380114001576646e-05),\n",
       " ('model_short_chevrolet uplander', 4.119721428677394e-05),\n",
       " ('model_short_mercedes-benz c300', 4.1192150201260014e-05),\n",
       " ('model_short_mini clubman', 4.107754409914041e-05),\n",
       " ('model_short_mini cargo', 4.09691117487852e-05),\n",
       " ('model_short_jeep cj8', 4.088212779099199e-05),\n",
       " ('model_short_chrysler crossfire', 4.083677536354264e-05),\n",
       " ('model_short_gmc c8500', 4.08064693510312e-05),\n",
       " ('model_short_chevrolet c4500', 4.073530880006447e-05),\n",
       " ('model_short_jaguar f-type', 4.071624703986251e-05),\n",
       " ('model_short_mercedes-benz b-class', 4.0692971414700947e-05),\n",
       " ('model_short_buick cascada', 4.0518949358628176e-05),\n",
       " ('model_short_fiat 500l', 4.0429980654566126e-05),\n",
       " ('model_short_bmw x4', 4.0328668046706384e-05),\n",
       " ('model_short_bmw 2', 4.030303282111268e-05),\n",
       " ('model_short_jeep cj-5', 4.014826621535873e-05),\n",
       " ('model_short_chevrolet c-10', 4.0044912882903776e-05),\n",
       " ('model_short_other gmce', 3.963254341454512e-05),\n",
       " ('model_short_jeep cj2a', 3.955839863383253e-05),\n",
       " ('model_short_volkswagen ghia', 3.948208945027576e-05),\n",
       " ('model_short_other x1', 3.910669325456157e-05),\n",
       " ('model_short_chevrolet high', 3.895508901860502e-05),\n",
       " ('model_short_dodge 1500', 3.889415274004386e-05),\n",
       " ('model_short_mazda rx7', 3.831315834077134e-05),\n",
       " ('model_short_ford utility', 3.824357713530889e-05),\n",
       " ('model_short_bmw 535xi', 3.822928264345419e-05),\n",
       " ('model_short_gmc tc5500', 3.822148638997617e-05),\n",
       " ('model_short_other 2012', 3.807095244430322e-05),\n",
       " ('model_short_infiniti q70', 3.801703270845678e-05),\n",
       " ('model_short_other gulf', 3.7963653788997314e-05),\n",
       " ('model_short_ferrari f430', 3.7775051249191424e-05),\n",
       " ('model_short_other gehl', 3.774221060295604e-05),\n",
       " ('model_short_other hot', 3.768708486456152e-05),\n",
       " ('model_short_rover autobiography', 3.732640687736454e-05),\n",
       " ('model_short_pontiac g8', 3.7311786973677925e-05),\n",
       " ('model_short_volvo tractor', 3.729740994597572e-05),\n",
       " ('model_short_gmc c4500', 3.7181771325636895e-05),\n",
       " ('region_lafayette', 3.702943301640086e-05),\n",
       " ('model_short_porsche 914', 3.6891369013902724e-05),\n",
       " ('model_short_infiniti qx70', 3.6865633833024925e-05),\n",
       " ('model_short_other 198.5', 3.6825967581883844e-05),\n",
       " ('model_short_chevrolet s10', 3.660992549306445e-05),\n",
       " ('model_short_toyota lifted', 3.6326987590004964e-05),\n",
       " ('model_short_gmc c6500', 3.6311515855686596e-05),\n",
       " ('region_texarkana', 3.629112057409992e-05),\n",
       " ('model_short_other 1972', 3.610910934930479e-05),\n",
       " ('model_short_mercury capri', 3.598747959401473e-05),\n",
       " ('model_short_chevrolet monte', 3.5969907729400523e-05),\n",
       " ('model_short_ford tudor', 3.5792872782841786e-05),\n",
       " ('model_short_gmc sonoma', 3.568929093373881e-05),\n",
       " ('model_short_mercedes-benz m', 3.556225470668182e-05),\n",
       " ('region_pierre / central SD', 3.5443976312223055e-05),\n",
       " ('model_short_gmc cabellero', 3.4902142597016306e-05),\n",
       " ('model_short_honda element', 3.469526220946213e-05),\n",
       " ('model_short_chevrolet c5500', 3.468588022168097e-05),\n",
       " ('model_short_cadillac dts', 3.449478669163258e-05),\n",
       " ('model_short_other 1977', 3.424712318751932e-05),\n",
       " ('model_short_infiniti g37s', 3.4168460457676113e-05),\n",
       " ('model_short_ford f-100', 3.406591551253406e-05),\n",
       " ('model_short_toyota fj40', 3.3954082134608434e-05),\n",
       " ('region_del rio / eagle pass', 3.3598749838822096e-05),\n",
       " ('region_eastern CO', 3.336786925113226e-05),\n",
       " ('model_short_dodge 4500', 3.3132333179171e-05),\n",
       " ('model_short_chevrolet step-van', 3.312789757579932e-05),\n",
       " ('model_short_other qx', 3.296498046016175e-05),\n",
       " ('model_short_bmw 328xi', 3.2727490818901656e-05),\n",
       " ('model_short_jaguar x-type', 3.250054186376249e-05),\n",
       " ('model_short_other 2008', 3.244043497035053e-05),\n",
       " ('model_short_bmw 135i', 3.2037804157357686e-05),\n",
       " ('model_short_other 1994', 3.1875509743650755e-05),\n",
       " ('model_short_other comet', 3.185573833562708e-05),\n",
       " ('model_short_chrysler 5th', 3.179374467401292e-05),\n",
       " ('model_short_porsche macan', 3.1662860948822376e-05),\n",
       " ('model_short_other smart', 3.156582010277149e-05),\n",
       " ('model_short_chevrolet fleetmaster', 3.146875300882215e-05),\n",
       " ('model_short_bmw 128i', 3.123968582276051e-05),\n",
       " ...]"
      ]
     },
     "execution_count": 25,
     "metadata": {},
     "output_type": "execute_result"
    }
   ],
   "source": [
    "# Проверка эффективности новых фичей\n",
    "forest.fit(train_x, train_y)\n",
    "f_imp = list(zip(X.columns, forest.feature_importances_))\n",
    "f_imp.sort(key = lambda x: x[1], reverse=True)\n",
    "f_imp"
   ]
  },
  {
   "cell_type": "markdown",
   "metadata": {},
   "source": [
    "Новые фичи эффективны"
   ]
  },
  {
   "cell_type": "markdown",
   "metadata": {},
   "source": [
    "## 3.3. Нейронная сеть"
   ]
  },
  {
   "cell_type": "code",
   "execution_count": 26,
   "metadata": {},
   "outputs": [
    {
     "data": {
      "text/plain": [
       "{'activation': 'logistic', 'solver': 'adam'}"
      ]
     },
     "execution_count": 26,
     "metadata": {},
     "output_type": "execute_result"
    }
   ],
   "source": [
    "mlp = MLPClassifier()\n",
    "param_grid = {'activation': ['logistic', 'relu'], 'solver': ['sgd', 'adam']}\n",
    "grid_search_mlp = GridSearchCV(mlp, param_grid, cv=4, scoring='accuracy', refit=False)\n",
    "grid_search_mlp.fit(train_x, train_y)\n",
    "grid_search_mlp.best_params_"
   ]
  },
  {
   "cell_type": "code",
   "execution_count": 27,
   "metadata": {
    "scrolled": true
   },
   "outputs": [],
   "source": [
    "mlp = MLPClassifier(activation='logistic', solver='adam', max_iter=500)\n",
    "cv_mlp = cross_val_score(mlp, train_x, train_y, cv=4)"
   ]
  },
  {
   "cell_type": "markdown",
   "metadata": {},
   "source": [
    "## 3.4 Метод опорных векторов"
   ]
  },
  {
   "cell_type": "code",
   "execution_count": 42,
   "metadata": {},
   "outputs": [
    {
     "data": {
      "text/plain": [
       "{'C': 10, 'kernel': 'linear'}"
      ]
     },
     "execution_count": 42,
     "metadata": {},
     "output_type": "execute_result"
    }
   ],
   "source": [
    "svc = SVC()\n",
    "param_grid = {'C': [1, 10, 15], 'kernel': ['linear', 'rbf']} \n",
    "grid_search_svc = GridSearchCV(svc, param_grid, cv=4, scoring='accuracy', refit=False)\n",
    "grid_search_svc.fit(train_x, train_y)\n",
    "grid_search_svc.best_params_"
   ]
  },
  {
   "cell_type": "code",
   "execution_count": 43,
   "metadata": {},
   "outputs": [
    {
     "name": "stdout",
     "output_type": "stream",
     "text": [
      "0.7758110968711776 {'C': 1, 'kernel': 'linear'}\n",
      "0.7406833178171793 {'C': 1, 'kernel': 'rbf'}\n",
      "0.7790733304517619 {'C': 10, 'kernel': 'linear'}\n",
      "0.7729256212003055 {'C': 10, 'kernel': 'rbf'}\n",
      "0.7771914300453193 {'C': 15, 'kernel': 'linear'}\n",
      "0.7714201008751514 {'C': 15, 'kernel': 'rbf'}\n"
     ]
    }
   ],
   "source": [
    "cv_res = grid_search_svc.cv_results_\n",
    "for m, p in zip(cv_res['mean_test_score'], cv_res['params']):\n",
    "    print(m, p)"
   ]
  },
  {
   "cell_type": "code",
   "execution_count": 44,
   "metadata": {},
   "outputs": [],
   "source": [
    "svc = SVC(C=10, kernel='linear')\n",
    "cv_svc = cross_val_score(svc, train_x, train_y, cv=4)"
   ]
  },
  {
   "cell_type": "markdown",
   "metadata": {},
   "source": [
    "## 3.5. Сравнение"
   ]
  },
  {
   "cell_type": "code",
   "execution_count": 45,
   "metadata": {
    "scrolled": true
   },
   "outputs": [
    {
     "name": "stdout",
     "output_type": "stream",
     "text": [
      "mean = 0.77104, std = 0.00621 — Логистическая регрессия\n",
      "mean = 0.75260, std = 0.01056 — Случайный лес\n",
      "mean = 0.77142, std = 0.00374 — Нейронная сеть\n",
      "mean = 0.77907, std = 0.00570 — Метод опорных векторов\n"
     ]
    }
   ],
   "source": [
    "print(f'mean = {cv_logis.mean():.5f}, std = {cv_logis.std():.5f} \\u2014 Логистическая регрессия')\n",
    "print(f'mean = {cv_forest.mean():.5f}, std = {cv_forest.std():.5f} \\u2014 Случайный лес')\n",
    "print(f'mean = {cv_mlp.mean():.5f}, std = {cv_mlp.std():.5f} \\u2014 Нейронная сеть')\n",
    "print(f'mean = {cv_svc.mean():.5f}, std = {cv_svc.std():.5f} \\u2014 Метод опорных векторов')"
   ]
  },
  {
   "cell_type": "markdown",
   "metadata": {},
   "source": [
    "В среднем лучший результат даёт Метод опорных векторов, но нейронная сеть и логистическая регрессия статистически не хуже. Причём Метод опорных векторов работает быстрее."
   ]
  },
  {
   "cell_type": "markdown",
   "metadata": {
    "id": "LPADUk0IiiEJ"
   },
   "source": [
    "# 4. Evaluation"
   ]
  },
  {
   "cell_type": "markdown",
   "metadata": {},
   "source": [
    "Посчитаем метрику accuracy на тестовой выборке:"
   ]
  },
  {
   "cell_type": "code",
   "execution_count": 46,
   "metadata": {},
   "outputs": [
    {
     "name": "stdout",
     "output_type": "stream",
     "text": [
      "На тренеровочных данных: 0.8872161585748338 \tНа тестовых данных:  0.7877571500250878  :  LogisticRegression(C=8, max_iter=300, solver='newton-cg')\n",
      "На тренеровочных данных: 0.9998745452264459 \tНа тестовых данных:  0.7686904164576016  :  RandomForestClassifier(bootstrap=False, max_depth=7000, n_estimators=550)\n",
      "На тренеровочных данных: 0.9993727261322294 \tНа тестовых данных:  0.7827395885599598  :  MLPClassifier(activation='logistic', max_iter=500)\n",
      "На тренеровочных данных: 0.8981307238740434 \tНа тестовых данных:  0.792272955343703  :  SVC(C=10, kernel='linear')\n"
     ]
    }
   ],
   "source": [
    "models = [logis, forest, mlp, svc]\n",
    "for model in models:\n",
    "    model.fit(train_x, train_y)\n",
    "    pred_train = model.predict(train_x)\n",
    "    pred_test = model.predict(test_x)\n",
    "    print('На тренеровочных данных:', accuracy_score(pred_train, train_y), '\\tНа тестовых данных: ',  accuracy_score(pred_test, test_y), ' : ', model)"
   ]
  },
  {
   "cell_type": "markdown",
   "metadata": {},
   "source": [
    "Случайный лес и нейронная сеть немного переобучены.\n",
    "\n",
    "Остальные модели в порядке.\n",
    "\n",
    "Случайный лес даёт слижком низкий результат на тестовой выборке и при кросс-валидации по сравнению с остальными.\n",
    "\n",
    "Нейронную сеть можно бвло бы улучшить, но она слишком медленно обучается.\n",
    "\n",
    "В результате выбераем метод опорных векторов."
   ]
  },
  {
   "cell_type": "code",
   "execution_count": 48,
   "metadata": {},
   "outputs": [
    {
     "name": "stdout",
     "output_type": "stream",
     "text": [
      "accuracy = 0.8941188277800081\n"
     ]
    }
   ],
   "source": [
    "# Сохраним лучшую модель:\n",
    "svc.fit(X, y)\n",
    "pred = svc.predict(X)\n",
    "print('accuracy =', accuracy_score(pred, y))\n",
    "with open('cvs_cars.pickle', 'wb') as file:\n",
    "    pickle.dump(svc, file)"
   ]
  },
  {
   "cell_type": "code",
   "execution_count": null,
   "metadata": {},
   "outputs": [],
   "source": []
  }
 ],
 "metadata": {
  "colab": {
   "collapsed_sections": [
    "oTIytkb-P_fc",
    "aXJiblYGPnl7"
   ],
   "name": "Практическая работа.ipynb",
   "provenance": []
  },
  "kernelspec": {
   "display_name": "Python 3 (ipykernel)",
   "language": "python",
   "name": "python3"
  },
  "language_info": {
   "codemirror_mode": {
    "name": "ipython",
    "version": 3
   },
   "file_extension": ".py",
   "mimetype": "text/x-python",
   "name": "python",
   "nbconvert_exporter": "python",
   "pygments_lexer": "ipython3",
   "version": "3.10.6"
  }
 },
 "nbformat": 4,
 "nbformat_minor": 1
}
